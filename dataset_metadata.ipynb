{
 "cells": [
  {
   "cell_type": "markdown",
   "id": "845ced35-4885-40e6-ac3a-1c9be11ed009",
   "metadata": {},
   "source": [
    "# Dataset Metadata"
   ]
  },
  {
   "cell_type": "markdown",
   "id": "c09cabc8-d348-4491-bb92-f2973c5880db",
   "metadata": {},
   "source": [
    "- PROVNUM\n",
    "    - Medicare provider number\n",
    "- PROVNAME\n",
    "    - Provider name\n",
    "- CITY\n",
    "    - Provider City\n",
    "- STATE\n",
    "    - Postal abbreviation for State\n",
    "- COUNTY_NAME\n",
    "    - Name of Provider County, unique within state\n",
    "- COUNTY_FIPS\n",
    "    - FIPS Code for Provider County, unique within state\n",
    "- CY_Qtr\n",
    "    - Calendar Quarter (yyyyQq, e.g. 2018Q4)\n",
    "- WorkDate\n",
    "    - Day for Reported Hours (yyyymmdd)\n",
    "- MDScensus\n",
    "    - Resident Census from MDS\n",
    "- Hrs_RNDON\n",
    "    - Total Hours for RN Director of Nursing\n",
    "- Hrs_RNDON_emp\n",
    "    - Employee Hours for RN Director of Nursing\n",
    "- Hrs_RNDON_ctr\n",
    "    - Contract Hours for RN Director of Nursing\n",
    "- Hrs_RNadmin\n",
    "    - Hours for RN with administrative duties\n",
    "- Hrs_RNadmin_emp\n",
    "    - Employee Hours for RN with administrative duties\n",
    "- Hrs_RNadmin_ctr\n",
    "    - Contract Hours for RN with administrative duties\n",
    "- Hrs_RN\n",
    "    - Total Hours for RN\n",
    "- Hrs_RN_emp\n",
    "    - Employee Hours for RN\n",
    "- Hrs_RN_ctr\n",
    "    - Contract Hours for RN\n",
    "- Hrs_LPNadmin\n",
    "    - Total Hours for LPN w/ admin duties\n",
    "- Hrs_LPNadmin_emp\n",
    "    - Employee Hours for LPN w/ admin duties\n",
    "- Hrs_LPNadmin_ctr\n",
    "    - Contract Hours for LPN w/ admin duties\n",
    "- Hrs_LPN\n",
    "    - Total Hours for LPN\n",
    "- Hrs_LPN_emp\n",
    "    - Employee Hours for LPN\n",
    "- Hrs_LPN_ctr\n",
    "    - Contract Hours for LPN\n",
    "- Hrs_CNA\n",
    "    - Total Hours for CNA\n",
    "- Hrs_CNA_emp\n",
    "    - Employee Hours for CNA\n",
    "- Hrs_CNA_ctr\n",
    "    - Contract Hours for CNA\n",
    "- Hrs_NAtrn\n",
    "    - Total Hours for Nurse aide in training\n",
    "- Hrs_NAtrn_emp\n",
    "    - Employee Hours for Nurse aide in training\n",
    "- Hrs_NAtrn_ctr\n",
    "    - Contract Hours for Nurse aide in training\n",
    "- Hrs_MedAide\n",
    "    - Total Hours for Med Aide/Technician\n",
    "- Hrs_MedAide_emp\n",
    "    - Employee Hours for Med Aide/Technician\n",
    "- Hrs_MedAide_ctr\n",
    "    - Contract Hours for Med Aide/Technician"
   ]
  },
  {
   "cell_type": "code",
   "execution_count": null,
   "id": "b53812fa-c271-408f-89c4-139d078f8794",
   "metadata": {},
   "outputs": [],
   "source": []
  }
 ],
 "metadata": {
  "kernelspec": {
   "display_name": "Python 3 (ipykernel)",
   "language": "python",
   "name": "python3"
  },
  "language_info": {
   "codemirror_mode": {
    "name": "ipython",
    "version": 3
   },
   "file_extension": ".py",
   "mimetype": "text/x-python",
   "name": "python",
   "nbconvert_exporter": "python",
   "pygments_lexer": "ipython3",
   "version": "3.12.3"
  }
 },
 "nbformat": 4,
 "nbformat_minor": 5
}
