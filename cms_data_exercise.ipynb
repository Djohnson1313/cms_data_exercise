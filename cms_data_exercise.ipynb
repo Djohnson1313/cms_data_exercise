{
 "cells": [
  {
   "cell_type": "markdown",
   "id": "16411742-2f5b-4390-8b33-4737ffb325b8",
   "metadata": {},
   "source": [
    "# CMS Data Exercise "
   ]
  },
  {
   "cell_type": "markdown",
   "id": "c944dbc9-cff4-4659-a29d-37c1f4e5ad86",
   "metadata": {},
   "source": [
    "## Author Infomation\n",
    "\n",
    "Name : Darryn Johnson \n",
    "\n",
    "Date Last Updated : 2/2/2025"
   ]
  },
  {
   "cell_type": "markdown",
   "id": "aa6cc4a5-f868-483f-932d-d079a59701c2",
   "metadata": {},
   "source": [
    "## Sources and Links\n",
    "\n",
    "Original Dataset : [Payroll Based Journal Daily Nurse Staffing](https://data.cms.gov/quality-of-care/payroll-based-journal-daily-nurse-staffing/data)\n",
    "\n",
    "Original Health Deficiencies Data : [Health Deficiencies](https://data.cms.gov/provider-data/dataset/r5ix-sfxw)\n",
    "\n",
    "Safety Code Scope Picture : [chfs.ky.gov](https://www.chfs.ky.gov/agencies/os/oig/dhc/Documents/ScopeSeverityGrid1.pdf)"
   ]
  },
  {
   "cell_type": "markdown",
   "id": "0691172b-c6eb-4803-bf61-32a22189a737",
   "metadata": {},
   "source": [
    "---\n",
    "# Imports"
   ]
  },
  {
   "cell_type": "code",
   "execution_count": 1,
   "id": "b2c8e66a-4fd0-4110-9c18-40cea97c06f7",
   "metadata": {},
   "outputs": [],
   "source": [
    "import pandas as pd\n",
    "import matplotlib.pyplot as plt\n",
    "import numpy as np\n",
    "import seaborn as sns"
   ]
  },
  {
   "cell_type": "code",
   "execution_count": 2,
   "id": "b9dba3fb-0aef-4903-bb2d-1fd3805b525e",
   "metadata": {},
   "outputs": [],
   "source": [
    "pd.set_option('display.max_columns', None)"
   ]
  },
  {
   "cell_type": "markdown",
   "id": "9a7165c4-92c5-443a-a49e-54e6b9ce9caf",
   "metadata": {},
   "source": [
    "---\n",
    "## Reproducability"
   ]
  },
  {
   "cell_type": "markdown",
   "id": "627bf3d2-32cd-4a75-9557-23e4ea091920",
   "metadata": {},
   "source": []
  },
  {
   "cell_type": "markdown",
   "id": "0d38f56a-338d-4c94-a44d-b9cafb2bda7d",
   "metadata": {},
   "source": [
    "---\n",
    "# Business Understanding "
   ]
  },
  {
   "cell_type": "markdown",
   "id": "0f4e2eb7-bd02-4b2b-87bd-b60392110c65",
   "metadata": {},
   "source": [
    "The purpose of the following notebook is to look into the data associated with staffing long-term care facilities. The data contains informations such as provider name, data, location data, as well as information regarding deficiencies and the fixes for them."
   ]
  },
  {
   "cell_type": "markdown",
   "id": "50c0ad93-4dc4-4111-ab8e-3ec0559665cc",
   "metadata": {},
   "source": [
    "---\n",
    "# Data understanding "
   ]
  },
  {
   "cell_type": "markdown",
   "id": "2c8c4dcf-0c36-4fd7-8e8c-92980f55bf06",
   "metadata": {},
   "source": [
    "The data we will be using is data from [Payroll Based Journal Daily Nurse Staffing](https://data.cms.gov/quality-of-care/payroll-based-journal-daily-nurse-staffing/data) and [Health Deficiencies](https://data.cms.gov/provider-data/dataset/r5ix-sfxw) from [Data.CMS.GOV](https://data.cms.gov/). This data is published quarterly by Medicaid and Medicare containing staffing data for all registered nursing homes in the U.S.\n",
    "\n",
    "Data set 1 ([Payroll Based Journal Daily Nurse Staffing](https://data.cms.gov/quality-of-care/payroll-based-journal-daily-nurse-staffing/data)) is structered as follows :\n",
    "\n",
    "- the original dataset contains 1,325,323 rows, with each row representing a specidfic date the data was recorded per provider\n",
    "- the original dataset contains 33 columns containing informations such as :\n",
    "    - recorded hours per work type. examples include :\n",
    "      - RN and CNA hours\n",
    "    - dates, times and locations for records kept\n",
    "    - provider names\n",
    "    - as well as other infomration explored in the notebook\n",
    "\n",
    "Data set 2 ([Health Deficiencies](https://data.cms.gov/provider-data/dataset/r5ix-sfxw)) is structered as follows :\n",
    "\n",
    "- the original dataset contains 404,614 rows, with each row representing a specific date a deficiency was found.\n",
    "- the original dataset contains 23 columns containing infomration such as :\n",
    "    - the date a deficiency was found, recored and fixed\n",
    "    - type of deficiency class\n",
    "    - location\n",
    "    - name of provider\n",
    "    - as well as other infomration explored in the notebook"
   ]
  },
  {
   "cell_type": "markdown",
   "id": "e76b84d9-cc33-4426-8c90-5efd12e9fdb9",
   "metadata": {},
   "source": [
    "---\n",
    "# Functions"
   ]
  },
  {
   "cell_type": "code",
   "execution_count": 3,
   "id": "c08de348-e9b9-49bd-817b-b836ac1ceb0f",
   "metadata": {},
   "outputs": [],
   "source": [
    "def scope_sev(df, rating, col):\n",
    "    data = df\n",
    "    rating_df = data.loc[data[col] == rating]\n",
    "\n",
    "    comp_dict = {}\n",
    "\n",
    "    for ind, row in rating_df.iterrows():\n",
    "        key = row['State']\n",
    "        value = row[col]\n",
    "\n",
    "        if key not in comp_dict:\n",
    "            comp_dict[key] = 0 \n",
    "        comp_dict[key] += 1\n",
    "\n",
    "    sorted_dict = dict(sorted(comp_dict.items(), reverse = True, key = lambda item : item[1]))\n",
    "    \n",
    "    if 'CA' in comp_dict:\n",
    "        state = 'western states'\n",
    "    else:\n",
    "        state = 'eastern states'\n",
    "   \n",
    "    \n",
    "    max_ = max(comp_dict, key = comp_dict.get)\n",
    "    min_ = min(comp_dict, key = comp_dict.get)\n",
    "\n",
    "    return f'The state with the most {rating} cases in the {state} is {max_}, with the lowest being {min_}'"
   ]
  },
  {
   "cell_type": "code",
   "execution_count": 4,
   "id": "6dba2d33-3a46-44d4-8082-94e36ced82cf",
   "metadata": {},
   "outputs": [],
   "source": [
    "def scope_perc(df, rating, col, min_max):\n",
    "    data = df\n",
    "    rating_df = data.loc[data[col] == rating]\n",
    "\n",
    "    comp_dict = {}\n",
    "\n",
    "    for ind, row in rating_df.iterrows():\n",
    "        key = row['State']\n",
    "        value = row[col]\n",
    "\n",
    "        if key not in comp_dict:\n",
    "            comp_dict[key] = 0 \n",
    "        comp_dict[key] += 1\n",
    "\n",
    "    sorted_dict = dict(sorted(comp_dict.items(), reverse = True, key = lambda item : item[1]))\n",
    "    \n",
    "    if 'CA' in comp_dict:\n",
    "        state = 'western states'\n",
    "    else:\n",
    "        state = 'eastern states'\n",
    "   \n",
    "\n",
    "    if min_max == max:\n",
    "        max_ = max(comp_dict, key = comp_dict.get)\n",
    "        max_df = data.loc[data['State'] == max_]\n",
    "        max_df1 = max_df.loc[max_df['Scope Severity Code'] == rating]\n",
    "        count = len(max_df1)\n",
    "        total = len(rating_df)\n",
    "        percent = round((count / total) * 100, 2)\n",
    "        var = max_\n",
    "        return f'{var} has {count} report(s) of {rating} cases, resulting in taking up {percent}% of total {rating} cases'\n",
    "    \n",
    "    else:\n",
    "        min_ = min(comp_dict, key = comp_dict.get)\n",
    "        min_df = data.loc[data['State'] == min_]\n",
    "        min_df1 = min_df.loc[min_df['Scope Severity Code'] == rating]\n",
    "        count = len(min_df1)\n",
    "        total = len(rating_df)\n",
    "        percent = round((count / total) * 100, 2)\n",
    "        var = min_\n",
    "        return f'{var} has {count} report(s) of {rating} cases, resulting in taking up {percent}% of total {rating} cases'"
   ]
  },
  {
   "cell_type": "markdown",
   "id": "3c749cb9-20c6-41a9-9838-0da9d70c5480",
   "metadata": {},
   "source": [
    "---\n",
    "# Exploritory Data Analysis"
   ]
  },
  {
   "cell_type": "code",
   "execution_count": 5,
   "id": "190b1f3e-d2b6-4038-aefe-16606db979fc",
   "metadata": {},
   "outputs": [],
   "source": [
    "df = pd.read_csv('PBJ_Daily_Nurse_Staffing_Q2_2024.zip', encoding = 'Latin-1', low_memory = False)"
   ]
  },
  {
   "cell_type": "code",
   "execution_count": 6,
   "id": "d6833dc7-d53e-4a84-b4c2-7d951c40dd8d",
   "metadata": {},
   "outputs": [
    {
     "data": {
      "text/html": [
       "<div>\n",
       "<style scoped>\n",
       "    .dataframe tbody tr th:only-of-type {\n",
       "        vertical-align: middle;\n",
       "    }\n",
       "\n",
       "    .dataframe tbody tr th {\n",
       "        vertical-align: top;\n",
       "    }\n",
       "\n",
       "    .dataframe thead th {\n",
       "        text-align: right;\n",
       "    }\n",
       "</style>\n",
       "<table border=\"1\" class=\"dataframe\">\n",
       "  <thead>\n",
       "    <tr style=\"text-align: right;\">\n",
       "      <th></th>\n",
       "      <th>PROVNUM</th>\n",
       "      <th>PROVNAME</th>\n",
       "      <th>CITY</th>\n",
       "      <th>STATE</th>\n",
       "      <th>COUNTY_NAME</th>\n",
       "      <th>COUNTY_FIPS</th>\n",
       "      <th>CY_Qtr</th>\n",
       "      <th>WorkDate</th>\n",
       "      <th>MDScensus</th>\n",
       "      <th>Hrs_RNDON</th>\n",
       "      <th>Hrs_RNDON_emp</th>\n",
       "      <th>Hrs_RNDON_ctr</th>\n",
       "      <th>Hrs_RNadmin</th>\n",
       "      <th>Hrs_RNadmin_emp</th>\n",
       "      <th>Hrs_RNadmin_ctr</th>\n",
       "      <th>Hrs_RN</th>\n",
       "      <th>Hrs_RN_emp</th>\n",
       "      <th>Hrs_RN_ctr</th>\n",
       "      <th>Hrs_LPNadmin</th>\n",
       "      <th>Hrs_LPNadmin_emp</th>\n",
       "      <th>Hrs_LPNadmin_ctr</th>\n",
       "      <th>Hrs_LPN</th>\n",
       "      <th>Hrs_LPN_emp</th>\n",
       "      <th>Hrs_LPN_ctr</th>\n",
       "      <th>Hrs_CNA</th>\n",
       "      <th>Hrs_CNA_emp</th>\n",
       "      <th>Hrs_CNA_ctr</th>\n",
       "      <th>Hrs_NAtrn</th>\n",
       "      <th>Hrs_NAtrn_emp</th>\n",
       "      <th>Hrs_NAtrn_ctr</th>\n",
       "      <th>Hrs_MedAide</th>\n",
       "      <th>Hrs_MedAide_emp</th>\n",
       "      <th>Hrs_MedAide_ctr</th>\n",
       "    </tr>\n",
       "  </thead>\n",
       "  <tbody>\n",
       "    <tr>\n",
       "      <th>0</th>\n",
       "      <td>015009</td>\n",
       "      <td>BURNS NURSING HOME, INC.</td>\n",
       "      <td>RUSSELLVILLE</td>\n",
       "      <td>AL</td>\n",
       "      <td>Franklin</td>\n",
       "      <td>59</td>\n",
       "      <td>2024Q2</td>\n",
       "      <td>20240401</td>\n",
       "      <td>51</td>\n",
       "      <td>10.77</td>\n",
       "      <td>10.77</td>\n",
       "      <td>0.0</td>\n",
       "      <td>10.40</td>\n",
       "      <td>10.40</td>\n",
       "      <td>0.0</td>\n",
       "      <td>55.70</td>\n",
       "      <td>55.70</td>\n",
       "      <td>0.0</td>\n",
       "      <td>0.0</td>\n",
       "      <td>0.0</td>\n",
       "      <td>0.0</td>\n",
       "      <td>25.50</td>\n",
       "      <td>25.50</td>\n",
       "      <td>0.0</td>\n",
       "      <td>160.08</td>\n",
       "      <td>160.08</td>\n",
       "      <td>0.0</td>\n",
       "      <td>0.0</td>\n",
       "      <td>0.0</td>\n",
       "      <td>0.0</td>\n",
       "      <td>0.0</td>\n",
       "      <td>0.0</td>\n",
       "      <td>0.0</td>\n",
       "    </tr>\n",
       "    <tr>\n",
       "      <th>1</th>\n",
       "      <td>015009</td>\n",
       "      <td>BURNS NURSING HOME, INC.</td>\n",
       "      <td>RUSSELLVILLE</td>\n",
       "      <td>AL</td>\n",
       "      <td>Franklin</td>\n",
       "      <td>59</td>\n",
       "      <td>2024Q2</td>\n",
       "      <td>20240402</td>\n",
       "      <td>52</td>\n",
       "      <td>8.43</td>\n",
       "      <td>8.43</td>\n",
       "      <td>0.0</td>\n",
       "      <td>18.25</td>\n",
       "      <td>18.25</td>\n",
       "      <td>0.0</td>\n",
       "      <td>63.28</td>\n",
       "      <td>63.28</td>\n",
       "      <td>0.0</td>\n",
       "      <td>0.0</td>\n",
       "      <td>0.0</td>\n",
       "      <td>0.0</td>\n",
       "      <td>15.22</td>\n",
       "      <td>15.22</td>\n",
       "      <td>0.0</td>\n",
       "      <td>135.95</td>\n",
       "      <td>135.95</td>\n",
       "      <td>0.0</td>\n",
       "      <td>0.0</td>\n",
       "      <td>0.0</td>\n",
       "      <td>0.0</td>\n",
       "      <td>0.0</td>\n",
       "      <td>0.0</td>\n",
       "      <td>0.0</td>\n",
       "    </tr>\n",
       "  </tbody>\n",
       "</table>\n",
       "</div>"
      ],
      "text/plain": [
       "  PROVNUM                  PROVNAME          CITY STATE COUNTY_NAME  \\\n",
       "0  015009  BURNS NURSING HOME, INC.  RUSSELLVILLE    AL    Franklin   \n",
       "1  015009  BURNS NURSING HOME, INC.  RUSSELLVILLE    AL    Franklin   \n",
       "\n",
       "   COUNTY_FIPS  CY_Qtr  WorkDate  MDScensus  Hrs_RNDON  Hrs_RNDON_emp  \\\n",
       "0           59  2024Q2  20240401         51      10.77          10.77   \n",
       "1           59  2024Q2  20240402         52       8.43           8.43   \n",
       "\n",
       "   Hrs_RNDON_ctr  Hrs_RNadmin  Hrs_RNadmin_emp  Hrs_RNadmin_ctr  Hrs_RN  \\\n",
       "0            0.0        10.40            10.40              0.0   55.70   \n",
       "1            0.0        18.25            18.25              0.0   63.28   \n",
       "\n",
       "   Hrs_RN_emp  Hrs_RN_ctr  Hrs_LPNadmin  Hrs_LPNadmin_emp  Hrs_LPNadmin_ctr  \\\n",
       "0       55.70         0.0           0.0               0.0               0.0   \n",
       "1       63.28         0.0           0.0               0.0               0.0   \n",
       "\n",
       "   Hrs_LPN  Hrs_LPN_emp  Hrs_LPN_ctr  Hrs_CNA  Hrs_CNA_emp  Hrs_CNA_ctr  \\\n",
       "0    25.50        25.50          0.0   160.08       160.08          0.0   \n",
       "1    15.22        15.22          0.0   135.95       135.95          0.0   \n",
       "\n",
       "   Hrs_NAtrn  Hrs_NAtrn_emp  Hrs_NAtrn_ctr  Hrs_MedAide  Hrs_MedAide_emp  \\\n",
       "0        0.0            0.0            0.0          0.0              0.0   \n",
       "1        0.0            0.0            0.0          0.0              0.0   \n",
       "\n",
       "   Hrs_MedAide_ctr  \n",
       "0              0.0  \n",
       "1              0.0  "
      ]
     },
     "execution_count": 6,
     "metadata": {},
     "output_type": "execute_result"
    }
   ],
   "source": [
    "df.head(2)"
   ]
  },
  {
   "cell_type": "code",
   "execution_count": 7,
   "id": "616363db-8638-45d0-9c13-ab2b341d821e",
   "metadata": {},
   "outputs": [
    {
     "name": "stdout",
     "output_type": "stream",
     "text": [
      "<class 'pandas.core.frame.DataFrame'>\n",
      "RangeIndex: 1325324 entries, 0 to 1325323\n",
      "Data columns (total 33 columns):\n",
      " #   Column            Non-Null Count    Dtype  \n",
      "---  ------            --------------    -----  \n",
      " 0   PROVNUM           1325324 non-null  object \n",
      " 1   PROVNAME          1325324 non-null  object \n",
      " 2   CITY              1325324 non-null  object \n",
      " 3   STATE             1325324 non-null  object \n",
      " 4   COUNTY_NAME       1325324 non-null  object \n",
      " 5   COUNTY_FIPS       1325324 non-null  int64  \n",
      " 6   CY_Qtr            1325324 non-null  object \n",
      " 7   WorkDate          1325324 non-null  int64  \n",
      " 8   MDScensus         1325324 non-null  int64  \n",
      " 9   Hrs_RNDON         1325324 non-null  float64\n",
      " 10  Hrs_RNDON_emp     1325324 non-null  float64\n",
      " 11  Hrs_RNDON_ctr     1325324 non-null  float64\n",
      " 12  Hrs_RNadmin       1325324 non-null  float64\n",
      " 13  Hrs_RNadmin_emp   1325324 non-null  float64\n",
      " 14  Hrs_RNadmin_ctr   1325324 non-null  float64\n",
      " 15  Hrs_RN            1325324 non-null  float64\n",
      " 16  Hrs_RN_emp        1325324 non-null  float64\n",
      " 17  Hrs_RN_ctr        1325324 non-null  float64\n",
      " 18  Hrs_LPNadmin      1325324 non-null  float64\n",
      " 19  Hrs_LPNadmin_emp  1325324 non-null  float64\n",
      " 20  Hrs_LPNadmin_ctr  1325324 non-null  float64\n",
      " 21  Hrs_LPN           1325324 non-null  float64\n",
      " 22  Hrs_LPN_emp       1325324 non-null  float64\n",
      " 23  Hrs_LPN_ctr       1325324 non-null  float64\n",
      " 24  Hrs_CNA           1325324 non-null  float64\n",
      " 25  Hrs_CNA_emp       1325324 non-null  float64\n",
      " 26  Hrs_CNA_ctr       1325324 non-null  float64\n",
      " 27  Hrs_NAtrn         1325324 non-null  float64\n",
      " 28  Hrs_NAtrn_emp     1325324 non-null  float64\n",
      " 29  Hrs_NAtrn_ctr     1325324 non-null  float64\n",
      " 30  Hrs_MedAide       1325324 non-null  float64\n",
      " 31  Hrs_MedAide_emp   1325324 non-null  float64\n",
      " 32  Hrs_MedAide_ctr   1325324 non-null  float64\n",
      "dtypes: float64(24), int64(3), object(6)\n",
      "memory usage: 333.7+ MB\n"
     ]
    }
   ],
   "source": [
    "df.info()"
   ]
  },
  {
   "cell_type": "code",
   "execution_count": 8,
   "id": "fc0a1983-2346-4eea-883b-752da2efe3a7",
   "metadata": {},
   "outputs": [],
   "source": [
    "health = pd.read_csv('NH_HealthCitations_Nov2024.csv', low_memory = False)"
   ]
  },
  {
   "cell_type": "code",
   "execution_count": 9,
   "id": "476244d5-3b04-4d4f-923e-692735575d76",
   "metadata": {},
   "outputs": [
    {
     "data": {
      "text/html": [
       "<div>\n",
       "<style scoped>\n",
       "    .dataframe tbody tr th:only-of-type {\n",
       "        vertical-align: middle;\n",
       "    }\n",
       "\n",
       "    .dataframe tbody tr th {\n",
       "        vertical-align: top;\n",
       "    }\n",
       "\n",
       "    .dataframe thead th {\n",
       "        text-align: right;\n",
       "    }\n",
       "</style>\n",
       "<table border=\"1\" class=\"dataframe\">\n",
       "  <thead>\n",
       "    <tr style=\"text-align: right;\">\n",
       "      <th></th>\n",
       "      <th>CMS Certification Number (CCN)</th>\n",
       "      <th>Provider Name</th>\n",
       "      <th>Provider Address</th>\n",
       "      <th>City/Town</th>\n",
       "      <th>State</th>\n",
       "      <th>ZIP Code</th>\n",
       "      <th>Survey Date</th>\n",
       "      <th>Survey Type</th>\n",
       "      <th>Deficiency Prefix</th>\n",
       "      <th>Deficiency Category</th>\n",
       "      <th>Deficiency Tag Number</th>\n",
       "      <th>Deficiency Description</th>\n",
       "      <th>Scope Severity Code</th>\n",
       "      <th>Deficiency Corrected</th>\n",
       "      <th>Correction Date</th>\n",
       "      <th>Inspection Cycle</th>\n",
       "      <th>Standard Deficiency</th>\n",
       "      <th>Complaint Deficiency</th>\n",
       "      <th>Infection Control Inspection Deficiency</th>\n",
       "      <th>Citation under IDR</th>\n",
       "      <th>Citation under IIDR</th>\n",
       "      <th>Location</th>\n",
       "      <th>Processing Date</th>\n",
       "    </tr>\n",
       "  </thead>\n",
       "  <tbody>\n",
       "    <tr>\n",
       "      <th>0</th>\n",
       "      <td>015009</td>\n",
       "      <td>BURNS NURSING HOME, INC.</td>\n",
       "      <td>701 MONROE STREET NW</td>\n",
       "      <td>RUSSELLVILLE</td>\n",
       "      <td>AL</td>\n",
       "      <td>35653</td>\n",
       "      <td>2023-03-02</td>\n",
       "      <td>Health</td>\n",
       "      <td>F</td>\n",
       "      <td>Infection Control Deficiencies</td>\n",
       "      <td>880</td>\n",
       "      <td>Provide and implement an infection prevention ...</td>\n",
       "      <td>F</td>\n",
       "      <td>Deficient, Provider has date of correction</td>\n",
       "      <td>2023-04-06</td>\n",
       "      <td>1</td>\n",
       "      <td>Y</td>\n",
       "      <td>N</td>\n",
       "      <td>N</td>\n",
       "      <td>N</td>\n",
       "      <td>N</td>\n",
       "      <td>701 MONROE STREET NW,RUSSELLVILLE,AL,35653</td>\n",
       "      <td>2024-11-01</td>\n",
       "    </tr>\n",
       "    <tr>\n",
       "      <th>1</th>\n",
       "      <td>015009</td>\n",
       "      <td>BURNS NURSING HOME, INC.</td>\n",
       "      <td>701 MONROE STREET NW</td>\n",
       "      <td>RUSSELLVILLE</td>\n",
       "      <td>AL</td>\n",
       "      <td>35653</td>\n",
       "      <td>2023-03-02</td>\n",
       "      <td>Health</td>\n",
       "      <td>F</td>\n",
       "      <td>Resident Assessment and Care Planning Deficien...</td>\n",
       "      <td>656</td>\n",
       "      <td>Develop and implement a complete care plan tha...</td>\n",
       "      <td>J</td>\n",
       "      <td>Past Non-Compliance</td>\n",
       "      <td>2023-01-13</td>\n",
       "      <td>1</td>\n",
       "      <td>Y</td>\n",
       "      <td>Y</td>\n",
       "      <td>N</td>\n",
       "      <td>N</td>\n",
       "      <td>N</td>\n",
       "      <td>701 MONROE STREET NW,RUSSELLVILLE,AL,35653</td>\n",
       "      <td>2024-11-01</td>\n",
       "    </tr>\n",
       "  </tbody>\n",
       "</table>\n",
       "</div>"
      ],
      "text/plain": [
       "  CMS Certification Number (CCN)             Provider Name  \\\n",
       "0                         015009  BURNS NURSING HOME, INC.   \n",
       "1                         015009  BURNS NURSING HOME, INC.   \n",
       "\n",
       "       Provider Address     City/Town State  ZIP Code Survey Date Survey Type  \\\n",
       "0  701 MONROE STREET NW  RUSSELLVILLE    AL     35653  2023-03-02      Health   \n",
       "1  701 MONROE STREET NW  RUSSELLVILLE    AL     35653  2023-03-02      Health   \n",
       "\n",
       "  Deficiency Prefix                                Deficiency Category  \\\n",
       "0                 F                     Infection Control Deficiencies   \n",
       "1                 F  Resident Assessment and Care Planning Deficien...   \n",
       "\n",
       "   Deficiency Tag Number                             Deficiency Description  \\\n",
       "0                    880  Provide and implement an infection prevention ...   \n",
       "1                    656  Develop and implement a complete care plan tha...   \n",
       "\n",
       "  Scope Severity Code                        Deficiency Corrected  \\\n",
       "0                   F  Deficient, Provider has date of correction   \n",
       "1                   J                         Past Non-Compliance   \n",
       "\n",
       "  Correction Date  Inspection Cycle Standard Deficiency Complaint Deficiency  \\\n",
       "0      2023-04-06                 1                   Y                    N   \n",
       "1      2023-01-13                 1                   Y                    Y   \n",
       "\n",
       "  Infection Control Inspection Deficiency Citation under IDR  \\\n",
       "0                                       N                  N   \n",
       "1                                       N                  N   \n",
       "\n",
       "  Citation under IIDR                                    Location  \\\n",
       "0                   N  701 MONROE STREET NW,RUSSELLVILLE,AL,35653   \n",
       "1                   N  701 MONROE STREET NW,RUSSELLVILLE,AL,35653   \n",
       "\n",
       "  Processing Date  \n",
       "0      2024-11-01  \n",
       "1      2024-11-01  "
      ]
     },
     "execution_count": 9,
     "metadata": {},
     "output_type": "execute_result"
    }
   ],
   "source": [
    "health.head(2)"
   ]
  },
  {
   "cell_type": "code",
   "execution_count": 10,
   "id": "f6df3409-1c26-43e2-8dab-ff80b4175b97",
   "metadata": {},
   "outputs": [
    {
     "name": "stdout",
     "output_type": "stream",
     "text": [
      "<class 'pandas.core.frame.DataFrame'>\n",
      "RangeIndex: 404615 entries, 0 to 404614\n",
      "Data columns (total 23 columns):\n",
      " #   Column                                   Non-Null Count   Dtype \n",
      "---  ------                                   --------------   ----- \n",
      " 0   CMS Certification Number (CCN)           404615 non-null  object\n",
      " 1   Provider Name                            404615 non-null  object\n",
      " 2   Provider Address                         404615 non-null  object\n",
      " 3   City/Town                                404615 non-null  object\n",
      " 4   State                                    404615 non-null  object\n",
      " 5   ZIP Code                                 404615 non-null  int64 \n",
      " 6   Survey Date                              404615 non-null  object\n",
      " 7   Survey Type                              404615 non-null  object\n",
      " 8   Deficiency Prefix                        404615 non-null  object\n",
      " 9   Deficiency Category                      404615 non-null  object\n",
      " 10  Deficiency Tag Number                    404615 non-null  int64 \n",
      " 11  Deficiency Description                   404615 non-null  object\n",
      " 12  Scope Severity Code                      404615 non-null  object\n",
      " 13  Deficiency Corrected                     404615 non-null  object\n",
      " 14  Correction Date                          403170 non-null  object\n",
      " 15  Inspection Cycle                         404615 non-null  int64 \n",
      " 16  Standard Deficiency                      404615 non-null  object\n",
      " 17  Complaint Deficiency                     404615 non-null  object\n",
      " 18  Infection Control Inspection Deficiency  404615 non-null  object\n",
      " 19  Citation under IDR                       404615 non-null  object\n",
      " 20  Citation under IIDR                      404615 non-null  object\n",
      " 21  Location                                 404615 non-null  object\n",
      " 22  Processing Date                          404615 non-null  object\n",
      "dtypes: int64(3), object(20)\n",
      "memory usage: 71.0+ MB\n"
     ]
    }
   ],
   "source": [
    "health.info()"
   ]
  },
  {
   "cell_type": "code",
   "execution_count": 11,
   "id": "5f798644-ce3d-4847-9f3a-fac827e91372",
   "metadata": {},
   "outputs": [],
   "source": [
    "df.rename(columns = {'WorkDate' : 'Date'}, inplace = True)"
   ]
  },
  {
   "cell_type": "code",
   "execution_count": 12,
   "id": "3a6f7afe-85c8-4982-ba1c-ec503e1e3c42",
   "metadata": {},
   "outputs": [],
   "source": [
    "health.rename(columns = {'Survey Date' : 'Date'}, inplace = True)"
   ]
  },
  {
   "cell_type": "code",
   "execution_count": 13,
   "id": "5ad66a52-4036-41eb-8a4a-b9e3efca1b2d",
   "metadata": {},
   "outputs": [],
   "source": [
    "health['Date'] = pd.to_datetime(health['Date'])"
   ]
  },
  {
   "cell_type": "code",
   "execution_count": 14,
   "id": "a0ab5893-f20b-4bc4-9229-60e373287d39",
   "metadata": {},
   "outputs": [],
   "source": [
    "df3 = df.join(health, how = 'left', lsuffix = 'Date', rsuffix = 'Date')"
   ]
  },
  {
   "cell_type": "code",
   "execution_count": 15,
   "id": "5d528e58-d9ed-4f36-81a8-ad618fd61e2d",
   "metadata": {},
   "outputs": [
    {
     "data": {
      "text/html": [
       "<div>\n",
       "<style scoped>\n",
       "    .dataframe tbody tr th:only-of-type {\n",
       "        vertical-align: middle;\n",
       "    }\n",
       "\n",
       "    .dataframe tbody tr th {\n",
       "        vertical-align: top;\n",
       "    }\n",
       "\n",
       "    .dataframe thead th {\n",
       "        text-align: right;\n",
       "    }\n",
       "</style>\n",
       "<table border=\"1\" class=\"dataframe\">\n",
       "  <thead>\n",
       "    <tr style=\"text-align: right;\">\n",
       "      <th></th>\n",
       "      <th>PROVNUM</th>\n",
       "      <th>PROVNAME</th>\n",
       "      <th>CITY</th>\n",
       "      <th>STATE</th>\n",
       "      <th>COUNTY_NAME</th>\n",
       "      <th>COUNTY_FIPS</th>\n",
       "      <th>CY_Qtr</th>\n",
       "      <th>DateDate</th>\n",
       "      <th>MDScensus</th>\n",
       "      <th>Hrs_RNDON</th>\n",
       "      <th>Hrs_RNDON_emp</th>\n",
       "      <th>Hrs_RNDON_ctr</th>\n",
       "      <th>Hrs_RNadmin</th>\n",
       "      <th>Hrs_RNadmin_emp</th>\n",
       "      <th>Hrs_RNadmin_ctr</th>\n",
       "      <th>Hrs_RN</th>\n",
       "      <th>Hrs_RN_emp</th>\n",
       "      <th>Hrs_RN_ctr</th>\n",
       "      <th>Hrs_LPNadmin</th>\n",
       "      <th>Hrs_LPNadmin_emp</th>\n",
       "      <th>Hrs_LPNadmin_ctr</th>\n",
       "      <th>Hrs_LPN</th>\n",
       "      <th>Hrs_LPN_emp</th>\n",
       "      <th>Hrs_LPN_ctr</th>\n",
       "      <th>Hrs_CNA</th>\n",
       "      <th>Hrs_CNA_emp</th>\n",
       "      <th>Hrs_CNA_ctr</th>\n",
       "      <th>Hrs_NAtrn</th>\n",
       "      <th>Hrs_NAtrn_emp</th>\n",
       "      <th>Hrs_NAtrn_ctr</th>\n",
       "      <th>Hrs_MedAide</th>\n",
       "      <th>Hrs_MedAide_emp</th>\n",
       "      <th>Hrs_MedAide_ctr</th>\n",
       "      <th>CMS Certification Number (CCN)</th>\n",
       "      <th>Provider Name</th>\n",
       "      <th>Provider Address</th>\n",
       "      <th>City/Town</th>\n",
       "      <th>State</th>\n",
       "      <th>ZIP Code</th>\n",
       "      <th>DateDate</th>\n",
       "      <th>Survey Type</th>\n",
       "      <th>Deficiency Prefix</th>\n",
       "      <th>Deficiency Category</th>\n",
       "      <th>Deficiency Tag Number</th>\n",
       "      <th>Deficiency Description</th>\n",
       "      <th>Scope Severity Code</th>\n",
       "      <th>Deficiency Corrected</th>\n",
       "      <th>Correction Date</th>\n",
       "      <th>Inspection Cycle</th>\n",
       "      <th>Standard Deficiency</th>\n",
       "      <th>Complaint Deficiency</th>\n",
       "      <th>Infection Control Inspection Deficiency</th>\n",
       "      <th>Citation under IDR</th>\n",
       "      <th>Citation under IIDR</th>\n",
       "      <th>Location</th>\n",
       "      <th>Processing Date</th>\n",
       "    </tr>\n",
       "  </thead>\n",
       "  <tbody>\n",
       "    <tr>\n",
       "      <th>0</th>\n",
       "      <td>015009</td>\n",
       "      <td>BURNS NURSING HOME, INC.</td>\n",
       "      <td>RUSSELLVILLE</td>\n",
       "      <td>AL</td>\n",
       "      <td>Franklin</td>\n",
       "      <td>59</td>\n",
       "      <td>2024Q2</td>\n",
       "      <td>20240401</td>\n",
       "      <td>51</td>\n",
       "      <td>10.77</td>\n",
       "      <td>10.77</td>\n",
       "      <td>0.0</td>\n",
       "      <td>10.40</td>\n",
       "      <td>10.40</td>\n",
       "      <td>0.0</td>\n",
       "      <td>55.70</td>\n",
       "      <td>55.70</td>\n",
       "      <td>0.0</td>\n",
       "      <td>0.0</td>\n",
       "      <td>0.0</td>\n",
       "      <td>0.0</td>\n",
       "      <td>25.50</td>\n",
       "      <td>25.50</td>\n",
       "      <td>0.0</td>\n",
       "      <td>160.08</td>\n",
       "      <td>160.08</td>\n",
       "      <td>0.0</td>\n",
       "      <td>0.0</td>\n",
       "      <td>0.0</td>\n",
       "      <td>0.0</td>\n",
       "      <td>0.0</td>\n",
       "      <td>0.0</td>\n",
       "      <td>0.0</td>\n",
       "      <td>015009</td>\n",
       "      <td>BURNS NURSING HOME, INC.</td>\n",
       "      <td>701 MONROE STREET NW</td>\n",
       "      <td>RUSSELLVILLE</td>\n",
       "      <td>AL</td>\n",
       "      <td>35653.0</td>\n",
       "      <td>2023-03-02</td>\n",
       "      <td>Health</td>\n",
       "      <td>F</td>\n",
       "      <td>Infection Control Deficiencies</td>\n",
       "      <td>880.0</td>\n",
       "      <td>Provide and implement an infection prevention ...</td>\n",
       "      <td>F</td>\n",
       "      <td>Deficient, Provider has date of correction</td>\n",
       "      <td>2023-04-06</td>\n",
       "      <td>1.0</td>\n",
       "      <td>Y</td>\n",
       "      <td>N</td>\n",
       "      <td>N</td>\n",
       "      <td>N</td>\n",
       "      <td>N</td>\n",
       "      <td>701 MONROE STREET NW,RUSSELLVILLE,AL,35653</td>\n",
       "      <td>2024-11-01</td>\n",
       "    </tr>\n",
       "    <tr>\n",
       "      <th>1</th>\n",
       "      <td>015009</td>\n",
       "      <td>BURNS NURSING HOME, INC.</td>\n",
       "      <td>RUSSELLVILLE</td>\n",
       "      <td>AL</td>\n",
       "      <td>Franklin</td>\n",
       "      <td>59</td>\n",
       "      <td>2024Q2</td>\n",
       "      <td>20240402</td>\n",
       "      <td>52</td>\n",
       "      <td>8.43</td>\n",
       "      <td>8.43</td>\n",
       "      <td>0.0</td>\n",
       "      <td>18.25</td>\n",
       "      <td>18.25</td>\n",
       "      <td>0.0</td>\n",
       "      <td>63.28</td>\n",
       "      <td>63.28</td>\n",
       "      <td>0.0</td>\n",
       "      <td>0.0</td>\n",
       "      <td>0.0</td>\n",
       "      <td>0.0</td>\n",
       "      <td>15.22</td>\n",
       "      <td>15.22</td>\n",
       "      <td>0.0</td>\n",
       "      <td>135.95</td>\n",
       "      <td>135.95</td>\n",
       "      <td>0.0</td>\n",
       "      <td>0.0</td>\n",
       "      <td>0.0</td>\n",
       "      <td>0.0</td>\n",
       "      <td>0.0</td>\n",
       "      <td>0.0</td>\n",
       "      <td>0.0</td>\n",
       "      <td>015009</td>\n",
       "      <td>BURNS NURSING HOME, INC.</td>\n",
       "      <td>701 MONROE STREET NW</td>\n",
       "      <td>RUSSELLVILLE</td>\n",
       "      <td>AL</td>\n",
       "      <td>35653.0</td>\n",
       "      <td>2023-03-02</td>\n",
       "      <td>Health</td>\n",
       "      <td>F</td>\n",
       "      <td>Resident Assessment and Care Planning Deficien...</td>\n",
       "      <td>656.0</td>\n",
       "      <td>Develop and implement a complete care plan tha...</td>\n",
       "      <td>J</td>\n",
       "      <td>Past Non-Compliance</td>\n",
       "      <td>2023-01-13</td>\n",
       "      <td>1.0</td>\n",
       "      <td>Y</td>\n",
       "      <td>Y</td>\n",
       "      <td>N</td>\n",
       "      <td>N</td>\n",
       "      <td>N</td>\n",
       "      <td>701 MONROE STREET NW,RUSSELLVILLE,AL,35653</td>\n",
       "      <td>2024-11-01</td>\n",
       "    </tr>\n",
       "  </tbody>\n",
       "</table>\n",
       "</div>"
      ],
      "text/plain": [
       "  PROVNUM                  PROVNAME          CITY STATE COUNTY_NAME  \\\n",
       "0  015009  BURNS NURSING HOME, INC.  RUSSELLVILLE    AL    Franklin   \n",
       "1  015009  BURNS NURSING HOME, INC.  RUSSELLVILLE    AL    Franklin   \n",
       "\n",
       "   COUNTY_FIPS  CY_Qtr  DateDate  MDScensus  Hrs_RNDON  Hrs_RNDON_emp  \\\n",
       "0           59  2024Q2  20240401         51      10.77          10.77   \n",
       "1           59  2024Q2  20240402         52       8.43           8.43   \n",
       "\n",
       "   Hrs_RNDON_ctr  Hrs_RNadmin  Hrs_RNadmin_emp  Hrs_RNadmin_ctr  Hrs_RN  \\\n",
       "0            0.0        10.40            10.40              0.0   55.70   \n",
       "1            0.0        18.25            18.25              0.0   63.28   \n",
       "\n",
       "   Hrs_RN_emp  Hrs_RN_ctr  Hrs_LPNadmin  Hrs_LPNadmin_emp  Hrs_LPNadmin_ctr  \\\n",
       "0       55.70         0.0           0.0               0.0               0.0   \n",
       "1       63.28         0.0           0.0               0.0               0.0   \n",
       "\n",
       "   Hrs_LPN  Hrs_LPN_emp  Hrs_LPN_ctr  Hrs_CNA  Hrs_CNA_emp  Hrs_CNA_ctr  \\\n",
       "0    25.50        25.50          0.0   160.08       160.08          0.0   \n",
       "1    15.22        15.22          0.0   135.95       135.95          0.0   \n",
       "\n",
       "   Hrs_NAtrn  Hrs_NAtrn_emp  Hrs_NAtrn_ctr  Hrs_MedAide  Hrs_MedAide_emp  \\\n",
       "0        0.0            0.0            0.0          0.0              0.0   \n",
       "1        0.0            0.0            0.0          0.0              0.0   \n",
       "\n",
       "   Hrs_MedAide_ctr CMS Certification Number (CCN)             Provider Name  \\\n",
       "0              0.0                         015009  BURNS NURSING HOME, INC.   \n",
       "1              0.0                         015009  BURNS NURSING HOME, INC.   \n",
       "\n",
       "       Provider Address     City/Town State  ZIP Code   DateDate Survey Type  \\\n",
       "0  701 MONROE STREET NW  RUSSELLVILLE    AL   35653.0 2023-03-02      Health   \n",
       "1  701 MONROE STREET NW  RUSSELLVILLE    AL   35653.0 2023-03-02      Health   \n",
       "\n",
       "  Deficiency Prefix                                Deficiency Category  \\\n",
       "0                 F                     Infection Control Deficiencies   \n",
       "1                 F  Resident Assessment and Care Planning Deficien...   \n",
       "\n",
       "   Deficiency Tag Number                             Deficiency Description  \\\n",
       "0                  880.0  Provide and implement an infection prevention ...   \n",
       "1                  656.0  Develop and implement a complete care plan tha...   \n",
       "\n",
       "  Scope Severity Code                        Deficiency Corrected  \\\n",
       "0                   F  Deficient, Provider has date of correction   \n",
       "1                   J                         Past Non-Compliance   \n",
       "\n",
       "  Correction Date  Inspection Cycle Standard Deficiency Complaint Deficiency  \\\n",
       "0      2023-04-06               1.0                   Y                    N   \n",
       "1      2023-01-13               1.0                   Y                    Y   \n",
       "\n",
       "  Infection Control Inspection Deficiency Citation under IDR  \\\n",
       "0                                       N                  N   \n",
       "1                                       N                  N   \n",
       "\n",
       "  Citation under IIDR                                    Location  \\\n",
       "0                   N  701 MONROE STREET NW,RUSSELLVILLE,AL,35653   \n",
       "1                   N  701 MONROE STREET NW,RUSSELLVILLE,AL,35653   \n",
       "\n",
       "  Processing Date  \n",
       "0      2024-11-01  \n",
       "1      2024-11-01  "
      ]
     },
     "execution_count": 15,
     "metadata": {},
     "output_type": "execute_result"
    }
   ],
   "source": [
    "df3.head(2)"
   ]
  },
  {
   "cell_type": "code",
   "execution_count": 16,
   "id": "84cb9c52-6f64-410b-9c89-bce65947a150",
   "metadata": {},
   "outputs": [],
   "source": [
    "df3.drop('STATE', axis = 1, inplace = True)"
   ]
  },
  {
   "cell_type": "code",
   "execution_count": 17,
   "id": "393d962b-19a0-405c-b52a-1bea676d4c8f",
   "metadata": {},
   "outputs": [],
   "source": [
    "df3.dropna(inplace = True)"
   ]
  },
  {
   "cell_type": "markdown",
   "id": "daa1da23-4e09-4da6-aef8-656d702c8377",
   "metadata": {},
   "source": [
    "---\n",
    "# Scope Severity Code"
   ]
  },
  {
   "cell_type": "markdown",
   "id": "a171d5fc-860e-43dd-b451-10481d3ce040",
   "metadata": {},
   "source": [
    "Here we will take a look into the `Scope Severity Code`, which gives a code to signify the type of issues found within an audit. These codes work on a scale of 3, which means the first 3 letters are `A, B, C`, all under level 1 deficiency. Level 1 dificiency is no actual harm with potential for minimal harm. Each letter represents a level of _spread_ for the level its on, with `A` meaning isolated, `B` meaning pattern, and `C` meaning widespread. The rest of the code follows this pattern with a level going up every 3 letters. \n",
    "\n",
    "Here we will take a look into the states that have the worst rating `L`. The lowest rating is `A`, however this rating does not appear in the dataset. With the data we have, `B` is the least severe rating we have. "
   ]
  },
  {
   "cell_type": "code",
   "execution_count": 18,
   "id": "daaa6ad7-cca8-4c7d-9432-11a199705f4c",
   "metadata": {
    "scrolled": true
   },
   "outputs": [
    {
     "data": {
      "text/plain": [
       "Scope Severity Code\n",
       "D    249589\n",
       "E     93100\n",
       "F     27390\n",
       "G     13175\n",
       "J      6092\n",
       "B      5348\n",
       "C      4867\n",
       "K      2254\n",
       "L       750\n",
       "H       570\n",
       "I        35\n",
       "Name: count, dtype: int64"
      ]
     },
     "execution_count": 18,
     "metadata": {},
     "output_type": "execute_result"
    }
   ],
   "source": [
    "df3['Scope Severity Code'].value_counts()"
   ]
  },
  {
   "cell_type": "code",
   "execution_count": 19,
   "id": "f28b7d76-7b84-4b24-a0f8-c6fd60270616",
   "metadata": {},
   "outputs": [],
   "source": [
    "west_states_list = ['CA', 'NV', 'OR', 'WA', 'ID', 'UT', 'AZ', 'NM', 'CO', 'WY', 'MT', 'ND', 'SD', 'NE', 'KS', 'OK', 'TX', 'LA', 'AR', 'MO', 'IA',\n",
    "                   'MN', 'MS', 'IL', 'HI']"
   ]
  },
  {
   "cell_type": "code",
   "execution_count": 20,
   "id": "104356fc-9480-43d6-b1ef-6ff9ff2675c9",
   "metadata": {},
   "outputs": [],
   "source": [
    "east_states_list = ['WI', 'Al', 'TN', 'KY', 'IN', 'MI', 'FL', 'GA', 'SC', 'NC', 'VA', 'WV', 'OH', 'PA', 'MD', 'DE', 'NJ', 'NY', 'CT', 'RI', 'MA',\n",
    "                    'NH', 'VT', 'ME', 'AK']"
   ]
  },
  {
   "cell_type": "code",
   "execution_count": 21,
   "id": "d7dd5547-fc44-4b09-af63-8f03be9b5693",
   "metadata": {},
   "outputs": [],
   "source": [
    "west_states = df3.loc[df3['State'].isin(west_states_list)]"
   ]
  },
  {
   "cell_type": "code",
   "execution_count": 22,
   "id": "77f7d2a8-ad98-457f-8391-2938f1f46f19",
   "metadata": {},
   "outputs": [],
   "source": [
    "east_states = df3.loc[df3['State'].isin(east_states_list)]"
   ]
  },
  {
   "cell_type": "markdown",
   "id": "2a58d7c0-927b-4bc9-a278-2c818330c47d",
   "metadata": {},
   "source": [
    "## Western States"
   ]
  },
  {
   "cell_type": "code",
   "execution_count": 23,
   "id": "ebd49f68-bb33-4381-8b35-01554ebdf953",
   "metadata": {},
   "outputs": [
    {
     "data": {
      "image/png": "[encoded data removed]",
      "text/plain": [
       "<Figure size 640x480 with 1 Axes>"
      ]
     },
     "metadata": {},
     "output_type": "display_data"
    }
   ],
   "source": [
    "sns.countplot(data = west_states, y = 'State', hue = 'Scope Severity Code')\n",
    "plt.show();"
   ]
  },
  {
   "cell_type": "code",
   "execution_count": 24,
   "id": "27e370e8-ad16-413e-8055-885a93aaa04b",
   "metadata": {},
   "outputs": [
    {
     "data": {
      "image/png": "[encoded data removed]",
      "text/plain": [
       "<Figure size 640x480 with 1 Axes>"
      ]
     },
     "metadata": {},
     "output_type": "display_data"
    }
   ],
   "source": [
    "fig, ax = plt.subplots()\n",
    "cal_df = west_states.loc[west_states['State'] == 'CA']\n",
    "sns.countplot(data = cal_df, x = 'State', hue = 'Scope Severity Code')\n",
    "plt.show();"
   ]
  },
  {
   "cell_type": "code",
   "execution_count": 25,
   "id": "85c2ae8f-db14-49fd-bff8-22bbc1ef1a90",
   "metadata": {},
   "outputs": [
    {
     "data": {
      "text/plain": [
       "Scope Severity Code\n",
       "D    36005\n",
       "E    14393\n",
       "F     2319\n",
       "B     1539\n",
       "G     1061\n",
       "J      226\n",
       "K      145\n",
       "C      135\n",
       "L       98\n",
       "H       58\n",
       "I        1\n",
       "Name: count, dtype: int64"
      ]
     },
     "execution_count": 25,
     "metadata": {},
     "output_type": "execute_result"
    }
   ],
   "source": [
    "cal_df['Scope Severity Code'].value_counts()"
   ]
  },
  {
   "cell_type": "code",
   "execution_count": 26,
   "id": "dc78be52-dba8-419f-9362-77b7e2d4f72d",
   "metadata": {},
   "outputs": [
    {
     "data": {
      "text/plain": [
       "'The state with the most L cases in the western states is CA, with the lowest being AR'"
      ]
     },
     "execution_count": 26,
     "metadata": {},
     "output_type": "execute_result"
    }
   ],
   "source": [
    "scope_sev(west_states, 'L', 'Scope Severity Code')"
   ]
  },
  {
   "cell_type": "code",
   "execution_count": 27,
   "id": "b5336348-7d2b-4ab3-a314-090cbac68e7c",
   "metadata": {},
   "outputs": [
    {
     "data": {
      "text/plain": [
       "'CA has 98 report(s) of L cases, resulting in taking up 26.42% of total L cases'"
      ]
     },
     "execution_count": 27,
     "metadata": {},
     "output_type": "execute_result"
    }
   ],
   "source": [
    "scope_perc(west_states, 'L', 'Scope Severity Code', max)"
   ]
  },
  {
   "cell_type": "code",
   "execution_count": 28,
   "id": "07a61fac-14b3-40ae-8dde-ec2560e0609b",
   "metadata": {},
   "outputs": [
    {
     "data": {
      "text/plain": [
       "'AR has 1 report(s) of L cases, resulting in taking up 0.27% of total L cases'"
      ]
     },
     "execution_count": 28,
     "metadata": {},
     "output_type": "execute_result"
    }
   ],
   "source": [
    "scope_perc(west_states, 'L','Scope Severity Code', min)"
   ]
  },
  {
   "cell_type": "code",
   "execution_count": 29,
   "id": "49b6398a-fc35-4591-8f9f-8f1a74aa12d7",
   "metadata": {},
   "outputs": [
    {
     "data": {
      "text/plain": [
       "'CA has 36005 report(s) of D cases, resulting in taking up 29.1% of total D cases'"
      ]
     },
     "execution_count": 29,
     "metadata": {},
     "output_type": "execute_result"
    }
   ],
   "source": [
    "scope_perc(west_states, 'D','Scope Severity Code', max)"
   ]
  },
  {
   "cell_type": "code",
   "execution_count": 30,
   "id": "5e4dd186-c1df-4ac0-84be-3f43ac78258e",
   "metadata": {},
   "outputs": [
    {
     "data": {
      "text/plain": [
       "'WY has 364 report(s) of D cases, resulting in taking up 0.29% of total D cases'"
      ]
     },
     "execution_count": 30,
     "metadata": {},
     "output_type": "execute_result"
    }
   ],
   "source": [
    "scope_perc(west_states, 'D','Scope Severity Code', min)"
   ]
  },
  {
   "cell_type": "markdown",
   "id": "ce24b021-f71c-4a30-81e9-71349cdf5cf7",
   "metadata": {},
   "source": [
    "## Eastern States"
   ]
  },
  {
   "cell_type": "code",
   "execution_count": 31,
   "id": "472ea200-a161-4bf8-953e-5789e31b60df",
   "metadata": {},
   "outputs": [
    {
     "data": {
      "image/png": "[encoded data removed]",
      "text/plain": [
       "<Figure size 640x480 with 1 Axes>"
      ]
     },
     "metadata": {},
     "output_type": "display_data"
    }
   ],
   "source": [
    "sns.countplot(data = east_states, y = 'State', hue = 'Scope Severity Code')\n",
    "plt.show();"
   ]
  },
  {
   "cell_type": "code",
   "execution_count": 32,
   "id": "a7b3010e-7780-465e-bc24-3079b3502567",
   "metadata": {},
   "outputs": [
    {
     "data": {
      "image/png": "[encoded data removed]",
      "text/plain": [
       "<Figure size 640x480 with 1 Axes>"
      ]
     },
     "metadata": {},
     "output_type": "display_data"
    }
   ],
   "source": [
    "fig, ax = plt.subplots()\n",
    "oh_df = east_states.loc[east_states['State'] == 'OH']\n",
    "sns.countplot(data = oh_df, x = 'State', hue = 'Scope Severity Code')\n",
    "plt.show();"
   ]
  },
  {
   "cell_type": "code",
   "execution_count": 33,
   "id": "4622933a-b9ac-4995-879e-d8a4169769aa",
   "metadata": {},
   "outputs": [
    {
     "data": {
      "text/plain": [
       "'The state with the most L cases in the eastern states is NJ, with the lowest being CT'"
      ]
     },
     "execution_count": 33,
     "metadata": {},
     "output_type": "execute_result"
    }
   ],
   "source": [
    "scope_sev(east_states, 'L', 'Scope Severity Code')"
   ]
  },
  {
   "cell_type": "code",
   "execution_count": 34,
   "id": "ae0dc536-e470-484e-b40f-04737b042253",
   "metadata": {},
   "outputs": [
    {
     "data": {
      "text/plain": [
       "'NJ has 49 report(s) of L cases, resulting in taking up 13.92% of total L cases'"
      ]
     },
     "execution_count": 34,
     "metadata": {},
     "output_type": "execute_result"
    }
   ],
   "source": [
    "scope_perc(east_states, 'L', 'Scope Severity Code', max)"
   ]
  },
  {
   "cell_type": "code",
   "execution_count": 35,
   "id": "a3b1e804-65d9-4a31-8396-73bc05c19399",
   "metadata": {},
   "outputs": [
    {
     "data": {
      "text/plain": [
       "'CT has 1 report(s) of L cases, resulting in taking up 0.28% of total L cases'"
      ]
     },
     "execution_count": 35,
     "metadata": {},
     "output_type": "execute_result"
    }
   ],
   "source": [
    "scope_perc(east_states, 'L', 'Scope Severity Code', min)"
   ]
  },
  {
   "cell_type": "code",
   "execution_count": 36,
   "id": "962cf15a-9d35-4717-a32a-ef49cc0aa43c",
   "metadata": {},
   "outputs": [
    {
     "data": {
      "text/plain": [
       "'OH has 19292 report(s) of D cases, resulting in taking up 15.6% of total D cases'"
      ]
     },
     "execution_count": 36,
     "metadata": {},
     "output_type": "execute_result"
    }
   ],
   "source": [
    "scope_perc(east_states, 'D', 'Scope Severity Code', max)"
   ]
  },
  {
   "cell_type": "code",
   "execution_count": 37,
   "id": "705c9d63-357b-409f-a4c4-7851f08c2dd1",
   "metadata": {},
   "outputs": [
    {
     "data": {
      "text/plain": [
       "'AK has 255 report(s) of D cases, resulting in taking up 0.21% of total D cases'"
      ]
     },
     "execution_count": 37,
     "metadata": {},
     "output_type": "execute_result"
    }
   ],
   "source": [
    "scope_perc(east_states, 'D', 'Scope Severity Code', min)"
   ]
  },
  {
   "cell_type": "markdown",
   "id": "8ef33744-68e7-4fd1-b6db-9a0ac052b06c",
   "metadata": {},
   "source": [
    "---\n",
    "# Contract Hours\n"
   ]
  },
  {
   "cell_type": "markdown",
   "id": "9b19cf73-9ad8-47a9-840c-74cf9792f23b",
   "metadata": {},
   "source": [
    "Let's take a look into the hours worked by contractors vs. hours worked by employees of the facility."
   ]
  },
  {
   "cell_type": "code",
   "execution_count": 38,
   "id": "f48526b5-1b02-42ec-9585-80019fb1a477",
   "metadata": {},
   "outputs": [
    {
     "data": {
      "text/html": [
       "<div>\n",
       "<style scoped>\n",
       "    .dataframe tbody tr th:only-of-type {\n",
       "        vertical-align: middle;\n",
       "    }\n",
       "\n",
       "    .dataframe tbody tr th {\n",
       "        vertical-align: top;\n",
       "    }\n",
       "\n",
       "    .dataframe thead th {\n",
       "        text-align: right;\n",
       "    }\n",
       "</style>\n",
       "<table border=\"1\" class=\"dataframe\">\n",
       "  <thead>\n",
       "    <tr style=\"text-align: right;\">\n",
       "      <th></th>\n",
       "      <th>PROVNUM</th>\n",
       "      <th>PROVNAME</th>\n",
       "      <th>CITY</th>\n",
       "      <th>STATE</th>\n",
       "      <th>COUNTY_NAME</th>\n",
       "      <th>COUNTY_FIPS</th>\n",
       "      <th>CY_Qtr</th>\n",
       "      <th>Date</th>\n",
       "      <th>MDScensus</th>\n",
       "      <th>Hrs_RNDON</th>\n",
       "      <th>Hrs_RNDON_emp</th>\n",
       "      <th>Hrs_RNDON_ctr</th>\n",
       "      <th>Hrs_RNadmin</th>\n",
       "      <th>Hrs_RNadmin_emp</th>\n",
       "      <th>Hrs_RNadmin_ctr</th>\n",
       "      <th>Hrs_RN</th>\n",
       "      <th>Hrs_RN_emp</th>\n",
       "      <th>Hrs_RN_ctr</th>\n",
       "      <th>Hrs_LPNadmin</th>\n",
       "      <th>Hrs_LPNadmin_emp</th>\n",
       "      <th>Hrs_LPNadmin_ctr</th>\n",
       "      <th>Hrs_LPN</th>\n",
       "      <th>Hrs_LPN_emp</th>\n",
       "      <th>Hrs_LPN_ctr</th>\n",
       "      <th>Hrs_CNA</th>\n",
       "      <th>Hrs_CNA_emp</th>\n",
       "      <th>Hrs_CNA_ctr</th>\n",
       "      <th>Hrs_NAtrn</th>\n",
       "      <th>Hrs_NAtrn_emp</th>\n",
       "      <th>Hrs_NAtrn_ctr</th>\n",
       "      <th>Hrs_MedAide</th>\n",
       "      <th>Hrs_MedAide_emp</th>\n",
       "      <th>Hrs_MedAide_ctr</th>\n",
       "    </tr>\n",
       "  </thead>\n",
       "  <tbody>\n",
       "    <tr>\n",
       "      <th>0</th>\n",
       "      <td>015009</td>\n",
       "      <td>BURNS NURSING HOME, INC.</td>\n",
       "      <td>RUSSELLVILLE</td>\n",
       "      <td>AL</td>\n",
       "      <td>Franklin</td>\n",
       "      <td>59</td>\n",
       "      <td>2024Q2</td>\n",
       "      <td>20240401</td>\n",
       "      <td>51</td>\n",
       "      <td>10.77</td>\n",
       "      <td>10.77</td>\n",
       "      <td>0.0</td>\n",
       "      <td>10.4</td>\n",
       "      <td>10.4</td>\n",
       "      <td>0.0</td>\n",
       "      <td>55.7</td>\n",
       "      <td>55.7</td>\n",
       "      <td>0.0</td>\n",
       "      <td>0.0</td>\n",
       "      <td>0.0</td>\n",
       "      <td>0.0</td>\n",
       "      <td>25.5</td>\n",
       "      <td>25.5</td>\n",
       "      <td>0.0</td>\n",
       "      <td>160.08</td>\n",
       "      <td>160.08</td>\n",
       "      <td>0.0</td>\n",
       "      <td>0.0</td>\n",
       "      <td>0.0</td>\n",
       "      <td>0.0</td>\n",
       "      <td>0.0</td>\n",
       "      <td>0.0</td>\n",
       "      <td>0.0</td>\n",
       "    </tr>\n",
       "  </tbody>\n",
       "</table>\n",
       "</div>"
      ],
      "text/plain": [
       "  PROVNUM                  PROVNAME          CITY STATE COUNTY_NAME  \\\n",
       "0  015009  BURNS NURSING HOME, INC.  RUSSELLVILLE    AL    Franklin   \n",
       "\n",
       "   COUNTY_FIPS  CY_Qtr      Date  MDScensus  Hrs_RNDON  Hrs_RNDON_emp  \\\n",
       "0           59  2024Q2  20240401         51      10.77          10.77   \n",
       "\n",
       "   Hrs_RNDON_ctr  Hrs_RNadmin  Hrs_RNadmin_emp  Hrs_RNadmin_ctr  Hrs_RN  \\\n",
       "0            0.0         10.4             10.4              0.0    55.7   \n",
       "\n",
       "   Hrs_RN_emp  Hrs_RN_ctr  Hrs_LPNadmin  Hrs_LPNadmin_emp  Hrs_LPNadmin_ctr  \\\n",
       "0        55.7         0.0           0.0               0.0               0.0   \n",
       "\n",
       "   Hrs_LPN  Hrs_LPN_emp  Hrs_LPN_ctr  Hrs_CNA  Hrs_CNA_emp  Hrs_CNA_ctr  \\\n",
       "0     25.5         25.5          0.0   160.08       160.08          0.0   \n",
       "\n",
       "   Hrs_NAtrn  Hrs_NAtrn_emp  Hrs_NAtrn_ctr  Hrs_MedAide  Hrs_MedAide_emp  \\\n",
       "0        0.0            0.0            0.0          0.0              0.0   \n",
       "\n",
       "   Hrs_MedAide_ctr  \n",
       "0              0.0  "
      ]
     },
     "execution_count": 38,
     "metadata": {},
     "output_type": "execute_result"
    }
   ],
   "source": [
    "df.head(1)"
   ]
  },
  {
   "cell_type": "code",
   "execution_count": 39,
   "id": "ffe884f0-aa52-4710-847a-859e3070f40f",
   "metadata": {},
   "outputs": [],
   "source": [
    "df_hours = df.iloc[:, 9:]"
   ]
  },
  {
   "cell_type": "code",
   "execution_count": 40,
   "id": "8caacfdc-5857-4c01-b918-8289aec324c7",
   "metadata": {},
   "outputs": [
    {
     "data": {
      "text/html": [
       "<div>\n",
       "<style scoped>\n",
       "    .dataframe tbody tr th:only-of-type {\n",
       "        vertical-align: middle;\n",
       "    }\n",
       "\n",
       "    .dataframe tbody tr th {\n",
       "        vertical-align: top;\n",
       "    }\n",
       "\n",
       "    .dataframe thead th {\n",
       "        text-align: right;\n",
       "    }\n",
       "</style>\n",
       "<table border=\"1\" class=\"dataframe\">\n",
       "  <thead>\n",
       "    <tr style=\"text-align: right;\">\n",
       "      <th></th>\n",
       "      <th>Hrs_RNDON</th>\n",
       "      <th>Hrs_RNDON_emp</th>\n",
       "      <th>Hrs_RNDON_ctr</th>\n",
       "      <th>Hrs_RNadmin</th>\n",
       "      <th>Hrs_RNadmin_emp</th>\n",
       "      <th>Hrs_RNadmin_ctr</th>\n",
       "      <th>Hrs_RN</th>\n",
       "      <th>Hrs_RN_emp</th>\n",
       "      <th>Hrs_RN_ctr</th>\n",
       "      <th>Hrs_LPNadmin</th>\n",
       "      <th>Hrs_LPNadmin_emp</th>\n",
       "      <th>Hrs_LPNadmin_ctr</th>\n",
       "      <th>Hrs_LPN</th>\n",
       "      <th>Hrs_LPN_emp</th>\n",
       "      <th>Hrs_LPN_ctr</th>\n",
       "      <th>Hrs_CNA</th>\n",
       "      <th>Hrs_CNA_emp</th>\n",
       "      <th>Hrs_CNA_ctr</th>\n",
       "      <th>Hrs_NAtrn</th>\n",
       "      <th>Hrs_NAtrn_emp</th>\n",
       "      <th>Hrs_NAtrn_ctr</th>\n",
       "      <th>Hrs_MedAide</th>\n",
       "      <th>Hrs_MedAide_emp</th>\n",
       "      <th>Hrs_MedAide_ctr</th>\n",
       "    </tr>\n",
       "  </thead>\n",
       "  <tbody>\n",
       "    <tr>\n",
       "      <th>0</th>\n",
       "      <td>10.77</td>\n",
       "      <td>10.77</td>\n",
       "      <td>0.0</td>\n",
       "      <td>10.40</td>\n",
       "      <td>10.40</td>\n",
       "      <td>0.0</td>\n",
       "      <td>55.70</td>\n",
       "      <td>55.70</td>\n",
       "      <td>0.0</td>\n",
       "      <td>0.0</td>\n",
       "      <td>0.0</td>\n",
       "      <td>0.0</td>\n",
       "      <td>25.50</td>\n",
       "      <td>25.50</td>\n",
       "      <td>0.0</td>\n",
       "      <td>160.08</td>\n",
       "      <td>160.08</td>\n",
       "      <td>0.0</td>\n",
       "      <td>0.0</td>\n",
       "      <td>0.0</td>\n",
       "      <td>0.0</td>\n",
       "      <td>0.0</td>\n",
       "      <td>0.0</td>\n",
       "      <td>0.0</td>\n",
       "    </tr>\n",
       "    <tr>\n",
       "      <th>1</th>\n",
       "      <td>8.43</td>\n",
       "      <td>8.43</td>\n",
       "      <td>0.0</td>\n",
       "      <td>18.25</td>\n",
       "      <td>18.25</td>\n",
       "      <td>0.0</td>\n",
       "      <td>63.28</td>\n",
       "      <td>63.28</td>\n",
       "      <td>0.0</td>\n",
       "      <td>0.0</td>\n",
       "      <td>0.0</td>\n",
       "      <td>0.0</td>\n",
       "      <td>15.22</td>\n",
       "      <td>15.22</td>\n",
       "      <td>0.0</td>\n",
       "      <td>135.95</td>\n",
       "      <td>135.95</td>\n",
       "      <td>0.0</td>\n",
       "      <td>0.0</td>\n",
       "      <td>0.0</td>\n",
       "      <td>0.0</td>\n",
       "      <td>0.0</td>\n",
       "      <td>0.0</td>\n",
       "      <td>0.0</td>\n",
       "    </tr>\n",
       "    <tr>\n",
       "      <th>2</th>\n",
       "      <td>11.13</td>\n",
       "      <td>11.13</td>\n",
       "      <td>0.0</td>\n",
       "      <td>12.08</td>\n",
       "      <td>12.08</td>\n",
       "      <td>0.0</td>\n",
       "      <td>76.29</td>\n",
       "      <td>76.29</td>\n",
       "      <td>0.0</td>\n",
       "      <td>0.0</td>\n",
       "      <td>0.0</td>\n",
       "      <td>0.0</td>\n",
       "      <td>5.46</td>\n",
       "      <td>5.46</td>\n",
       "      <td>0.0</td>\n",
       "      <td>150.31</td>\n",
       "      <td>150.31</td>\n",
       "      <td>0.0</td>\n",
       "      <td>0.0</td>\n",
       "      <td>0.0</td>\n",
       "      <td>0.0</td>\n",
       "      <td>0.0</td>\n",
       "      <td>0.0</td>\n",
       "      <td>0.0</td>\n",
       "    </tr>\n",
       "    <tr>\n",
       "      <th>3</th>\n",
       "      <td>12.27</td>\n",
       "      <td>12.27</td>\n",
       "      <td>0.0</td>\n",
       "      <td>17.53</td>\n",
       "      <td>17.53</td>\n",
       "      <td>0.0</td>\n",
       "      <td>54.13</td>\n",
       "      <td>54.13</td>\n",
       "      <td>0.0</td>\n",
       "      <td>0.0</td>\n",
       "      <td>0.0</td>\n",
       "      <td>0.0</td>\n",
       "      <td>20.18</td>\n",
       "      <td>20.18</td>\n",
       "      <td>0.0</td>\n",
       "      <td>133.01</td>\n",
       "      <td>133.01</td>\n",
       "      <td>0.0</td>\n",
       "      <td>0.0</td>\n",
       "      <td>0.0</td>\n",
       "      <td>0.0</td>\n",
       "      <td>0.0</td>\n",
       "      <td>0.0</td>\n",
       "      <td>0.0</td>\n",
       "    </tr>\n",
       "    <tr>\n",
       "      <th>4</th>\n",
       "      <td>4.95</td>\n",
       "      <td>4.95</td>\n",
       "      <td>0.0</td>\n",
       "      <td>17.42</td>\n",
       "      <td>17.42</td>\n",
       "      <td>0.0</td>\n",
       "      <td>53.63</td>\n",
       "      <td>53.63</td>\n",
       "      <td>0.0</td>\n",
       "      <td>0.0</td>\n",
       "      <td>0.0</td>\n",
       "      <td>0.0</td>\n",
       "      <td>27.85</td>\n",
       "      <td>27.85</td>\n",
       "      <td>0.0</td>\n",
       "      <td>137.92</td>\n",
       "      <td>137.92</td>\n",
       "      <td>0.0</td>\n",
       "      <td>0.0</td>\n",
       "      <td>0.0</td>\n",
       "      <td>0.0</td>\n",
       "      <td>0.0</td>\n",
       "      <td>0.0</td>\n",
       "      <td>0.0</td>\n",
       "    </tr>\n",
       "  </tbody>\n",
       "</table>\n",
       "</div>"
      ],
      "text/plain": [
       "   Hrs_RNDON  Hrs_RNDON_emp  Hrs_RNDON_ctr  Hrs_RNadmin  Hrs_RNadmin_emp  \\\n",
       "0      10.77          10.77            0.0        10.40            10.40   \n",
       "1       8.43           8.43            0.0        18.25            18.25   \n",
       "2      11.13          11.13            0.0        12.08            12.08   \n",
       "3      12.27          12.27            0.0        17.53            17.53   \n",
       "4       4.95           4.95            0.0        17.42            17.42   \n",
       "\n",
       "   Hrs_RNadmin_ctr  Hrs_RN  Hrs_RN_emp  Hrs_RN_ctr  Hrs_LPNadmin  \\\n",
       "0              0.0   55.70       55.70         0.0           0.0   \n",
       "1              0.0   63.28       63.28         0.0           0.0   \n",
       "2              0.0   76.29       76.29         0.0           0.0   \n",
       "3              0.0   54.13       54.13         0.0           0.0   \n",
       "4              0.0   53.63       53.63         0.0           0.0   \n",
       "\n",
       "   Hrs_LPNadmin_emp  Hrs_LPNadmin_ctr  Hrs_LPN  Hrs_LPN_emp  Hrs_LPN_ctr  \\\n",
       "0               0.0               0.0    25.50        25.50          0.0   \n",
       "1               0.0               0.0    15.22        15.22          0.0   \n",
       "2               0.0               0.0     5.46         5.46          0.0   \n",
       "3               0.0               0.0    20.18        20.18          0.0   \n",
       "4               0.0               0.0    27.85        27.85          0.0   \n",
       "\n",
       "   Hrs_CNA  Hrs_CNA_emp  Hrs_CNA_ctr  Hrs_NAtrn  Hrs_NAtrn_emp  Hrs_NAtrn_ctr  \\\n",
       "0   160.08       160.08          0.0        0.0            0.0            0.0   \n",
       "1   135.95       135.95          0.0        0.0            0.0            0.0   \n",
       "2   150.31       150.31          0.0        0.0            0.0            0.0   \n",
       "3   133.01       133.01          0.0        0.0            0.0            0.0   \n",
       "4   137.92       137.92          0.0        0.0            0.0            0.0   \n",
       "\n",
       "   Hrs_MedAide  Hrs_MedAide_emp  Hrs_MedAide_ctr  \n",
       "0          0.0              0.0              0.0  \n",
       "1          0.0              0.0              0.0  \n",
       "2          0.0              0.0              0.0  \n",
       "3          0.0              0.0              0.0  \n",
       "4          0.0              0.0              0.0  "
      ]
     },
     "execution_count": 40,
     "metadata": {},
     "output_type": "execute_result"
    }
   ],
   "source": [
    "df_hours.head()"
   ]
  },
  {
   "cell_type": "code",
   "execution_count": 46,
   "id": "978f1c06-f7b0-448d-a1eb-76af4897b20c",
   "metadata": {},
   "outputs": [],
   "source": [
    "def plot_val(df):\n",
    "    \n",
    "    '''\n",
    "    this function takes in 2 values, what data frame to use and what column to use to plot.\n",
    "    this function will automatically order them in decending order (bottom to top) as well as auto color them based on pre-determened coloring\n",
    "    per company name. if a company were to be added to the data frame, it will not have an assigned color and will most likely cause an error \n",
    "    when calling the function. add company to below area marked as \"company color assignment\" in color_map\n",
    "    ---\n",
    "    requirments : df(str) & col(str)\n",
    "    ---\n",
    "    '''\n",
    "    \n",
    "    # df variable assignment\n",
    "    df_ = df\n",
    "    dict_ = {}\n",
    "\n",
    "    # creates a dictionary that assigns the name of a company to the key and the given column value to value\n",
    "    for col in df_.columns:\n",
    "        dict_[col] = df_[col].sum()\n",
    "\n",
    "    # sort created dictionary (descending) \n",
    "    sorted_dict = dict(sorted(dict_.items(), reverse = True, key = lambda item : item[1]))\n",
    "    \n",
    "    # extract key/values\n",
    "    k = list(sorted_dict.keys())\n",
    "    v = list(sorted_dict.values())\n",
    "    \n",
    "    fig, ax = plt.subplots()\n",
    "    plt.barh(k, v)\n",
    "    ax.get_xaxis().set_major_formatter(\n",
    "        plt.FuncFormatter(lambda x, p: format(int(x), ','))) # format labels\n",
    "    plt.show();    "
   ]
  },
  {
   "cell_type": "code",
   "execution_count": 47,
   "id": "156227d0-f0ab-4487-96b8-c823d38b4024",
   "metadata": {},
   "outputs": [
    {
     "data": {
      "image/png": "[encoded data removed]",
      "text/plain": [
       "<Figure size 640x480 with 1 Axes>"
      ]
     },
     "metadata": {},
     "output_type": "display_data"
    }
   ],
   "source": [
    "plot_val(df_hours)"
   ]
  },
  {
   "cell_type": "markdown",
   "id": "ff796ad2-345a-4e8e-be03-4b199c4bc944",
   "metadata": {},
   "source": [
    "Here we can see that an overwhelming majority or hours are classified as `Hrs_CNA_emp` or hours for cna employees."
   ]
  },
  {
   "cell_type": "code",
   "execution_count": 103,
   "id": "3ea3aaf3-75d2-4343-b269-95392bc82ea1",
   "metadata": {},
   "outputs": [],
   "source": [
    "def hours_calc(df, h1, h2):\n",
    "    df_ = df\n",
    "\n",
    "    dict_ = {}\n",
    "\n",
    "    for col in df_.columns:\n",
    "        dict_[col] = df_[col].sum()\n",
    "\n",
    "    sorted_dict = dict(sorted(dict_.items(), reverse = True, key = lambda item : item[1]))\n",
    "    \n",
    "    for key in dict_:\n",
    "        if key == h1:\n",
    "            comp1 = dict_.get(key)\n",
    "    for key in dict_:\n",
    "        if key == h2:\n",
    "            comp2 = dict_.get(key)\n",
    "    \n",
    "    perc = round((comp2 / comp1) * 100, 2)\n",
    "    percent = f'{perc:,}'\n",
    "\n",
    "    comp1_r = round(comp1, 2)\n",
    "    comp2_r = round(comp2, 2)\n",
    "    \n",
    "    comp_1 = f'{comp1_r:,}'\n",
    "    comp_2 = f'{comp2_r:,}'\n",
    "\n",
    "    count = abs(comp1_r - comp2_r)\n",
    "    abs_ = f'{count:,}'\n",
    "    \n",
    "    return f'{h1} has {comp_1} hours on record, while {h2} has {comp_2} hours. This is a {abs_} ({percent} %) difference.'"
   ]
  },
  {
   "cell_type": "code",
   "execution_count": 104,
   "id": "9ec307fa-9145-4f5a-9307-d8d46a7bd974",
   "metadata": {},
   "outputs": [
    {
     "data": {
      "text/plain": [
       "'Hrs_CNA_ctr has 16,144,430.91 hours on record, while Hrs_CNA has 230,329,065.63 hours. This is a 214,184,634.72 (1,426.68 %) difference.'"
      ]
     },
     "execution_count": 104,
     "metadata": {},
     "output_type": "execute_result"
    }
   ],
   "source": [
    "hours_calc(df_hours, 'Hrs_CNA_ctr','Hrs_CNA')"
   ]
  },
  {
   "cell_type": "markdown",
   "id": "68c19900-463c-42de-9635-d890764ba152",
   "metadata": {},
   "source": [
    "---\n",
    "# Recommendation 1\n",
    "## Ensuring the Quality of Contractors"
   ]
  },
  {
   "cell_type": "markdown",
   "id": "fa63ed00-220c-486f-b3d0-b7ca5a7c17e9",
   "metadata": {},
   "source": [
    "With the data showing distinct areas that are high in the `L` Scope Severity Code, we can clearly see that these areas need major attention, as this code signifies widespread immediate jeopardy to the residence health and safety. While mistakes do occur, as we are human, widespread pattern deficiencies are not human error, rather a lack of training, lack of care in the workspace, sinister intent, or all of the above. This can be a product of the contractors from _Clipboard Health_ or the full time employees on location. If the issue resided with the contractors, immediate suspension of the contractor may be necessary until a further investigation can be conducted to identify what is causing the issues with that specific individual. If _Clipboard Health_ is to be the best of the best, it may be a viable business move to incentivize personal growth of the contractors, with continued education being rewarded and reviwes from the facilities on individuals being a core aspect of the process. A rating from the facility on top of the _Clipboard Score_ could give more insight into an individual. A person who alwyas shows up to work can still be a bad employee. If _Clipboard Health_ contractors are not the cause of the issue, they can still make an impact on the facilities care for residence. With an _initiative and persistence_ mindset, contractors can themselves be the beacon of light that residence look towards, always being the best version of themselves, even if the workplace fights against that motive. Having reliable employees that always do whats right and always has the resident first is the easiets and most effective way for the company to grow, as building a reliable repuation is extremely important. \n",
    "\n",
    "When it comes to specifc locations that have a high reporing of consistant issues, It may also be important to look into where the responsable individuals were trained, as this could lead to a pattern of low quality contractors consistently being recruited from the same institutions. This can drastically effect the ability for _Clipboard Health_ to aquire new facilies as customers, as word of mouth is viable (and free) advertising."
   ]
  },
  {
   "cell_type": "markdown",
   "id": "7f265467-82e1-476b-83ae-2fc086213128",
   "metadata": {},
   "source": [
    "---\n",
    "# Recommendation 2\n",
    "## Pain Point System"
   ]
  },
  {
   "cell_type": "markdown",
   "id": "bf7f5ff6-bfaa-4e00-bb7d-046cb3056922",
   "metadata": {},
   "source": [
    "Within the _ClipBoard Health App_, I propose a contractor self identifying system, where a contractor can identify strenghts they possess, allowing for when facilities place a shift opening they can also put a tag on it that states a pain point they are currently having. This can send notifications to contractors that have that tag as a srength, allowing for a better match between contractors and facilities. This can be a major selling point for when creating partnerships with facilities as this apears to be an untapped market that _Clipboard Health_ can use to better suit the needs of facilities."
   ]
  },
  {
   "cell_type": "code",
   "execution_count": null,
   "id": "156cad45-9eee-4577-a375-af8362d1944a",
   "metadata": {},
   "outputs": [],
   "source": []
  }
 ],
 "metadata": {
  "kernelspec": {
   "display_name": "Python 3 (ipykernel)",
   "language": "python",
   "name": "python3"
  },
  "language_info": {
   "codemirror_mode": {
    "name": "ipython",
    "version": 3
   },
   "file_extension": ".py",
   "mimetype": "text/x-python",
   "name": "python",
   "nbconvert_exporter": "python",
   "pygments_lexer": "ipython3",
   "version": "3.12.3"
  }
 },
 "nbformat": 4,
 "nbformat_minor": 5
}
