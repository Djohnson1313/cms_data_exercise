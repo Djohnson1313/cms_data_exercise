{
 "cells": [
  {
   "cell_type": "markdown",
   "id": "16411742-2f5b-4390-8b33-4737ffb325b8",
   "metadata": {},
   "source": [
    "# CMS Data Exercise "
   ]
  },
  {
   "cell_type": "markdown",
   "id": "c944dbc9-cff4-4659-a29d-37c1f4e5ad86",
   "metadata": {},
   "source": [
    "## Author Infomation\n",
    "\n",
    "Name : Darryn Johnson \n",
    "\n",
    "Date Last Updated : 2/2/2025"
   ]
  },
  {
   "cell_type": "markdown",
   "id": "aa6cc4a5-f868-483f-932d-d079a59701c2",
   "metadata": {},
   "source": [
    "## Sources and Links\n",
    "\n",
    "Original Dataset : [Payroll Based Journal Daily Nurse Staffing](https://data.cms.gov/quality-of-care/payroll-based-journal-daily-nurse-staffing/data)\n",
    "\n",
    "Safety Code Scope Picture : [chfs.ky.gov](https://www.chfs.ky.gov/agencies/os/oig/dhc/Documents/ScopeSeverityGrid1.pdf)"
   ]
  },
  {
   "cell_type": "markdown",
   "id": "0691172b-c6eb-4803-bf61-32a22189a737",
   "metadata": {},
   "source": [
    "# Imports"
   ]
  },
  {
   "cell_type": "code",
   "execution_count": 1,
   "id": "b2c8e66a-4fd0-4110-9c18-40cea97c06f7",
   "metadata": {},
   "outputs": [],
   "source": [
    "import pandas as pd\n",
    "import matplotlib.pyplot as plt\n",
    "import numpy as np\n",
    "import seaborn as sns"
   ]
  },
  {
   "cell_type": "code",
   "execution_count": 2,
   "id": "b9dba3fb-0aef-4903-bb2d-1fd3805b525e",
   "metadata": {},
   "outputs": [],
   "source": [
    "pd.set_option('display.max_columns', None)"
   ]
  },
  {
   "cell_type": "markdown",
   "id": "9a7165c4-92c5-443a-a49e-54e6b9ce9caf",
   "metadata": {},
   "source": [
    "## Reproducability"
   ]
  },
  {
   "cell_type": "markdown",
   "id": "627bf3d2-32cd-4a75-9557-23e4ea091920",
   "metadata": {},
   "source": []
  },
  {
   "cell_type": "markdown",
   "id": "0d38f56a-338d-4c94-a44d-b9cafb2bda7d",
   "metadata": {},
   "source": [
    "# Business Understanding "
   ]
  },
  {
   "cell_type": "markdown",
   "id": "0f4e2eb7-bd02-4b2b-87bd-b60392110c65",
   "metadata": {},
   "source": [
    "The purpose of the following notebook is to look into the data associated with staffing long-term care facilities. We will be using data such as `provider Name`, provider `City` and `State`, as well as other metrics used to identify "
   ]
  },
  {
   "cell_type": "code",
   "execution_count": null,
   "id": "bfa14c7d-a0a9-4cb5-bcdb-92c4d203d3a5",
   "metadata": {},
   "outputs": [],
   "source": []
  },
  {
   "cell_type": "code",
   "execution_count": null,
   "id": "fad1fa80-9562-4e65-a97c-a10995696435",
   "metadata": {},
   "outputs": [],
   "source": []
  },
  {
   "cell_type": "code",
   "execution_count": null,
   "id": "25e29e67-d322-4de6-88e2-d7ed439c0e1a",
   "metadata": {},
   "outputs": [],
   "source": []
  },
  {
   "cell_type": "code",
   "execution_count": null,
   "id": "7159ac30-7987-494c-adfe-c2bf46503b36",
   "metadata": {},
   "outputs": [],
   "source": []
  },
  {
   "cell_type": "code",
   "execution_count": null,
   "id": "3de03077-e840-4644-9996-d6eff072bce5",
   "metadata": {},
   "outputs": [],
   "source": []
  },
  {
   "cell_type": "code",
   "execution_count": null,
   "id": "0312026f-da6d-4208-8b29-74fb73445f99",
   "metadata": {},
   "outputs": [],
   "source": []
  },
  {
   "cell_type": "code",
   "execution_count": null,
   "id": "e0d90ed0-2afe-4a5f-9d59-f004acb621e9",
   "metadata": {},
   "outputs": [],
   "source": []
  },
  {
   "cell_type": "code",
   "execution_count": null,
   "id": "3945923b-1668-4c13-ab45-f1243ad20e99",
   "metadata": {},
   "outputs": [],
   "source": []
  },
  {
   "cell_type": "code",
   "execution_count": null,
   "id": "a1314795-cad2-4ce9-955f-bd9170277cd8",
   "metadata": {},
   "outputs": [],
   "source": []
  },
  {
   "cell_type": "markdown",
   "id": "3c749cb9-20c6-41a9-9838-0da9d70c5480",
   "metadata": {},
   "source": [
    "# Exploritory Data Analysis"
   ]
  },
  {
   "cell_type": "code",
   "execution_count": 3,
   "id": "190b1f3e-d2b6-4038-aefe-16606db979fc",
   "metadata": {},
   "outputs": [],
   "source": [
    "df = pd.read_csv('PBJ_Daily_Nurse_Staffing_Q2_2024.zip', encoding = 'Latin-1', low_memory = False)"
   ]
  },
  {
   "cell_type": "code",
   "execution_count": 4,
   "id": "fc0a1983-2346-4eea-883b-752da2efe3a7",
   "metadata": {},
   "outputs": [],
   "source": [
    "health = pd.read_csv('NH_HealthCitations_Nov2024.csv', low_memory = False)"
   ]
  },
  {
   "cell_type": "code",
   "execution_count": 5,
   "id": "476244d5-3b04-4d4f-923e-692735575d76",
   "metadata": {},
   "outputs": [
    {
     "data": {
      "text/html": [
       "<div>\n",
       "<style scoped>\n",
       "    .dataframe tbody tr th:only-of-type {\n",
       "        vertical-align: middle;\n",
       "    }\n",
       "\n",
       "    .dataframe tbody tr th {\n",
       "        vertical-align: top;\n",
       "    }\n",
       "\n",
       "    .dataframe thead th {\n",
       "        text-align: right;\n",
       "    }\n",
       "</style>\n",
       "<table border=\"1\" class=\"dataframe\">\n",
       "  <thead>\n",
       "    <tr style=\"text-align: right;\">\n",
       "      <th></th>\n",
       "      <th>CMS Certification Number (CCN)</th>\n",
       "      <th>Provider Name</th>\n",
       "      <th>Provider Address</th>\n",
       "      <th>City/Town</th>\n",
       "      <th>State</th>\n",
       "      <th>ZIP Code</th>\n",
       "      <th>Survey Date</th>\n",
       "      <th>Survey Type</th>\n",
       "      <th>Deficiency Prefix</th>\n",
       "      <th>Deficiency Category</th>\n",
       "      <th>Deficiency Tag Number</th>\n",
       "      <th>Deficiency Description</th>\n",
       "      <th>Scope Severity Code</th>\n",
       "      <th>Deficiency Corrected</th>\n",
       "      <th>Correction Date</th>\n",
       "      <th>Inspection Cycle</th>\n",
       "      <th>Standard Deficiency</th>\n",
       "      <th>Complaint Deficiency</th>\n",
       "      <th>Infection Control Inspection Deficiency</th>\n",
       "      <th>Citation under IDR</th>\n",
       "      <th>Citation under IIDR</th>\n",
       "      <th>Location</th>\n",
       "      <th>Processing Date</th>\n",
       "    </tr>\n",
       "  </thead>\n",
       "  <tbody>\n",
       "    <tr>\n",
       "      <th>0</th>\n",
       "      <td>015009</td>\n",
       "      <td>BURNS NURSING HOME, INC.</td>\n",
       "      <td>701 MONROE STREET NW</td>\n",
       "      <td>RUSSELLVILLE</td>\n",
       "      <td>AL</td>\n",
       "      <td>35653</td>\n",
       "      <td>2023-03-02</td>\n",
       "      <td>Health</td>\n",
       "      <td>F</td>\n",
       "      <td>Infection Control Deficiencies</td>\n",
       "      <td>880</td>\n",
       "      <td>Provide and implement an infection prevention ...</td>\n",
       "      <td>F</td>\n",
       "      <td>Deficient, Provider has date of correction</td>\n",
       "      <td>2023-04-06</td>\n",
       "      <td>1</td>\n",
       "      <td>Y</td>\n",
       "      <td>N</td>\n",
       "      <td>N</td>\n",
       "      <td>N</td>\n",
       "      <td>N</td>\n",
       "      <td>701 MONROE STREET NW,RUSSELLVILLE,AL,35653</td>\n",
       "      <td>2024-11-01</td>\n",
       "    </tr>\n",
       "    <tr>\n",
       "      <th>1</th>\n",
       "      <td>015009</td>\n",
       "      <td>BURNS NURSING HOME, INC.</td>\n",
       "      <td>701 MONROE STREET NW</td>\n",
       "      <td>RUSSELLVILLE</td>\n",
       "      <td>AL</td>\n",
       "      <td>35653</td>\n",
       "      <td>2023-03-02</td>\n",
       "      <td>Health</td>\n",
       "      <td>F</td>\n",
       "      <td>Resident Assessment and Care Planning Deficien...</td>\n",
       "      <td>656</td>\n",
       "      <td>Develop and implement a complete care plan tha...</td>\n",
       "      <td>J</td>\n",
       "      <td>Past Non-Compliance</td>\n",
       "      <td>2023-01-13</td>\n",
       "      <td>1</td>\n",
       "      <td>Y</td>\n",
       "      <td>Y</td>\n",
       "      <td>N</td>\n",
       "      <td>N</td>\n",
       "      <td>N</td>\n",
       "      <td>701 MONROE STREET NW,RUSSELLVILLE,AL,35653</td>\n",
       "      <td>2024-11-01</td>\n",
       "    </tr>\n",
       "  </tbody>\n",
       "</table>\n",
       "</div>"
      ],
      "text/plain": [
       "  CMS Certification Number (CCN)             Provider Name  \\\n",
       "0                         015009  BURNS NURSING HOME, INC.   \n",
       "1                         015009  BURNS NURSING HOME, INC.   \n",
       "\n",
       "       Provider Address     City/Town State  ZIP Code Survey Date Survey Type  \\\n",
       "0  701 MONROE STREET NW  RUSSELLVILLE    AL     35653  2023-03-02      Health   \n",
       "1  701 MONROE STREET NW  RUSSELLVILLE    AL     35653  2023-03-02      Health   \n",
       "\n",
       "  Deficiency Prefix                                Deficiency Category  \\\n",
       "0                 F                     Infection Control Deficiencies   \n",
       "1                 F  Resident Assessment and Care Planning Deficien...   \n",
       "\n",
       "   Deficiency Tag Number                             Deficiency Description  \\\n",
       "0                    880  Provide and implement an infection prevention ...   \n",
       "1                    656  Develop and implement a complete care plan tha...   \n",
       "\n",
       "  Scope Severity Code                        Deficiency Corrected  \\\n",
       "0                   F  Deficient, Provider has date of correction   \n",
       "1                   J                         Past Non-Compliance   \n",
       "\n",
       "  Correction Date  Inspection Cycle Standard Deficiency Complaint Deficiency  \\\n",
       "0      2023-04-06                 1                   Y                    N   \n",
       "1      2023-01-13                 1                   Y                    Y   \n",
       "\n",
       "  Infection Control Inspection Deficiency Citation under IDR  \\\n",
       "0                                       N                  N   \n",
       "1                                       N                  N   \n",
       "\n",
       "  Citation under IIDR                                    Location  \\\n",
       "0                   N  701 MONROE STREET NW,RUSSELLVILLE,AL,35653   \n",
       "1                   N  701 MONROE STREET NW,RUSSELLVILLE,AL,35653   \n",
       "\n",
       "  Processing Date  \n",
       "0      2024-11-01  \n",
       "1      2024-11-01  "
      ]
     },
     "execution_count": 5,
     "metadata": {},
     "output_type": "execute_result"
    }
   ],
   "source": [
    "health.head(2)"
   ]
  },
  {
   "cell_type": "code",
   "execution_count": 6,
   "id": "f6df3409-1c26-43e2-8dab-ff80b4175b97",
   "metadata": {},
   "outputs": [
    {
     "data": {
      "text/html": [
       "<div>\n",
       "<style scoped>\n",
       "    .dataframe tbody tr th:only-of-type {\n",
       "        vertical-align: middle;\n",
       "    }\n",
       "\n",
       "    .dataframe tbody tr th {\n",
       "        vertical-align: top;\n",
       "    }\n",
       "\n",
       "    .dataframe thead th {\n",
       "        text-align: right;\n",
       "    }\n",
       "</style>\n",
       "<table border=\"1\" class=\"dataframe\">\n",
       "  <thead>\n",
       "    <tr style=\"text-align: right;\">\n",
       "      <th></th>\n",
       "      <th>PROVNUM</th>\n",
       "      <th>PROVNAME</th>\n",
       "      <th>CITY</th>\n",
       "      <th>STATE</th>\n",
       "      <th>COUNTY_NAME</th>\n",
       "      <th>COUNTY_FIPS</th>\n",
       "      <th>CY_Qtr</th>\n",
       "      <th>WorkDate</th>\n",
       "      <th>MDScensus</th>\n",
       "      <th>Hrs_RNDON</th>\n",
       "      <th>Hrs_RNDON_emp</th>\n",
       "      <th>Hrs_RNDON_ctr</th>\n",
       "      <th>Hrs_RNadmin</th>\n",
       "      <th>Hrs_RNadmin_emp</th>\n",
       "      <th>Hrs_RNadmin_ctr</th>\n",
       "      <th>Hrs_RN</th>\n",
       "      <th>Hrs_RN_emp</th>\n",
       "      <th>Hrs_RN_ctr</th>\n",
       "      <th>Hrs_LPNadmin</th>\n",
       "      <th>Hrs_LPNadmin_emp</th>\n",
       "      <th>Hrs_LPNadmin_ctr</th>\n",
       "      <th>Hrs_LPN</th>\n",
       "      <th>Hrs_LPN_emp</th>\n",
       "      <th>Hrs_LPN_ctr</th>\n",
       "      <th>Hrs_CNA</th>\n",
       "      <th>Hrs_CNA_emp</th>\n",
       "      <th>Hrs_CNA_ctr</th>\n",
       "      <th>Hrs_NAtrn</th>\n",
       "      <th>Hrs_NAtrn_emp</th>\n",
       "      <th>Hrs_NAtrn_ctr</th>\n",
       "      <th>Hrs_MedAide</th>\n",
       "      <th>Hrs_MedAide_emp</th>\n",
       "      <th>Hrs_MedAide_ctr</th>\n",
       "    </tr>\n",
       "  </thead>\n",
       "  <tbody>\n",
       "    <tr>\n",
       "      <th>0</th>\n",
       "      <td>015009</td>\n",
       "      <td>BURNS NURSING HOME, INC.</td>\n",
       "      <td>RUSSELLVILLE</td>\n",
       "      <td>AL</td>\n",
       "      <td>Franklin</td>\n",
       "      <td>59</td>\n",
       "      <td>2024Q2</td>\n",
       "      <td>20240401</td>\n",
       "      <td>51</td>\n",
       "      <td>10.77</td>\n",
       "      <td>10.77</td>\n",
       "      <td>0.0</td>\n",
       "      <td>10.40</td>\n",
       "      <td>10.40</td>\n",
       "      <td>0.0</td>\n",
       "      <td>55.70</td>\n",
       "      <td>55.70</td>\n",
       "      <td>0.0</td>\n",
       "      <td>0.0</td>\n",
       "      <td>0.0</td>\n",
       "      <td>0.0</td>\n",
       "      <td>25.50</td>\n",
       "      <td>25.50</td>\n",
       "      <td>0.0</td>\n",
       "      <td>160.08</td>\n",
       "      <td>160.08</td>\n",
       "      <td>0.0</td>\n",
       "      <td>0.0</td>\n",
       "      <td>0.0</td>\n",
       "      <td>0.0</td>\n",
       "      <td>0.0</td>\n",
       "      <td>0.0</td>\n",
       "      <td>0.0</td>\n",
       "    </tr>\n",
       "    <tr>\n",
       "      <th>1</th>\n",
       "      <td>015009</td>\n",
       "      <td>BURNS NURSING HOME, INC.</td>\n",
       "      <td>RUSSELLVILLE</td>\n",
       "      <td>AL</td>\n",
       "      <td>Franklin</td>\n",
       "      <td>59</td>\n",
       "      <td>2024Q2</td>\n",
       "      <td>20240402</td>\n",
       "      <td>52</td>\n",
       "      <td>8.43</td>\n",
       "      <td>8.43</td>\n",
       "      <td>0.0</td>\n",
       "      <td>18.25</td>\n",
       "      <td>18.25</td>\n",
       "      <td>0.0</td>\n",
       "      <td>63.28</td>\n",
       "      <td>63.28</td>\n",
       "      <td>0.0</td>\n",
       "      <td>0.0</td>\n",
       "      <td>0.0</td>\n",
       "      <td>0.0</td>\n",
       "      <td>15.22</td>\n",
       "      <td>15.22</td>\n",
       "      <td>0.0</td>\n",
       "      <td>135.95</td>\n",
       "      <td>135.95</td>\n",
       "      <td>0.0</td>\n",
       "      <td>0.0</td>\n",
       "      <td>0.0</td>\n",
       "      <td>0.0</td>\n",
       "      <td>0.0</td>\n",
       "      <td>0.0</td>\n",
       "      <td>0.0</td>\n",
       "    </tr>\n",
       "    <tr>\n",
       "      <th>2</th>\n",
       "      <td>015009</td>\n",
       "      <td>BURNS NURSING HOME, INC.</td>\n",
       "      <td>RUSSELLVILLE</td>\n",
       "      <td>AL</td>\n",
       "      <td>Franklin</td>\n",
       "      <td>59</td>\n",
       "      <td>2024Q2</td>\n",
       "      <td>20240403</td>\n",
       "      <td>53</td>\n",
       "      <td>11.13</td>\n",
       "      <td>11.13</td>\n",
       "      <td>0.0</td>\n",
       "      <td>12.08</td>\n",
       "      <td>12.08</td>\n",
       "      <td>0.0</td>\n",
       "      <td>76.29</td>\n",
       "      <td>76.29</td>\n",
       "      <td>0.0</td>\n",
       "      <td>0.0</td>\n",
       "      <td>0.0</td>\n",
       "      <td>0.0</td>\n",
       "      <td>5.46</td>\n",
       "      <td>5.46</td>\n",
       "      <td>0.0</td>\n",
       "      <td>150.31</td>\n",
       "      <td>150.31</td>\n",
       "      <td>0.0</td>\n",
       "      <td>0.0</td>\n",
       "      <td>0.0</td>\n",
       "      <td>0.0</td>\n",
       "      <td>0.0</td>\n",
       "      <td>0.0</td>\n",
       "      <td>0.0</td>\n",
       "    </tr>\n",
       "  </tbody>\n",
       "</table>\n",
       "</div>"
      ],
      "text/plain": [
       "  PROVNUM                  PROVNAME          CITY STATE COUNTY_NAME  \\\n",
       "0  015009  BURNS NURSING HOME, INC.  RUSSELLVILLE    AL    Franklin   \n",
       "1  015009  BURNS NURSING HOME, INC.  RUSSELLVILLE    AL    Franklin   \n",
       "2  015009  BURNS NURSING HOME, INC.  RUSSELLVILLE    AL    Franklin   \n",
       "\n",
       "   COUNTY_FIPS  CY_Qtr  WorkDate  MDScensus  Hrs_RNDON  Hrs_RNDON_emp  \\\n",
       "0           59  2024Q2  20240401         51      10.77          10.77   \n",
       "1           59  2024Q2  20240402         52       8.43           8.43   \n",
       "2           59  2024Q2  20240403         53      11.13          11.13   \n",
       "\n",
       "   Hrs_RNDON_ctr  Hrs_RNadmin  Hrs_RNadmin_emp  Hrs_RNadmin_ctr  Hrs_RN  \\\n",
       "0            0.0        10.40            10.40              0.0   55.70   \n",
       "1            0.0        18.25            18.25              0.0   63.28   \n",
       "2            0.0        12.08            12.08              0.0   76.29   \n",
       "\n",
       "   Hrs_RN_emp  Hrs_RN_ctr  Hrs_LPNadmin  Hrs_LPNadmin_emp  Hrs_LPNadmin_ctr  \\\n",
       "0       55.70         0.0           0.0               0.0               0.0   \n",
       "1       63.28         0.0           0.0               0.0               0.0   \n",
       "2       76.29         0.0           0.0               0.0               0.0   \n",
       "\n",
       "   Hrs_LPN  Hrs_LPN_emp  Hrs_LPN_ctr  Hrs_CNA  Hrs_CNA_emp  Hrs_CNA_ctr  \\\n",
       "0    25.50        25.50          0.0   160.08       160.08          0.0   \n",
       "1    15.22        15.22          0.0   135.95       135.95          0.0   \n",
       "2     5.46         5.46          0.0   150.31       150.31          0.0   \n",
       "\n",
       "   Hrs_NAtrn  Hrs_NAtrn_emp  Hrs_NAtrn_ctr  Hrs_MedAide  Hrs_MedAide_emp  \\\n",
       "0        0.0            0.0            0.0          0.0              0.0   \n",
       "1        0.0            0.0            0.0          0.0              0.0   \n",
       "2        0.0            0.0            0.0          0.0              0.0   \n",
       "\n",
       "   Hrs_MedAide_ctr  \n",
       "0              0.0  \n",
       "1              0.0  \n",
       "2              0.0  "
      ]
     },
     "execution_count": 6,
     "metadata": {},
     "output_type": "execute_result"
    }
   ],
   "source": [
    "df.head(3)"
   ]
  },
  {
   "cell_type": "code",
   "execution_count": 7,
   "id": "5f798644-ce3d-4847-9f3a-fac827e91372",
   "metadata": {},
   "outputs": [],
   "source": [
    "df.rename(columns = {'WorkDate' : 'Date'}, inplace = True)"
   ]
  },
  {
   "cell_type": "code",
   "execution_count": 8,
   "id": "3a6f7afe-85c8-4982-ba1c-ec503e1e3c42",
   "metadata": {},
   "outputs": [],
   "source": [
    "health.rename(columns = {'Survey Date' : 'Date'}, inplace = True)"
   ]
  },
  {
   "cell_type": "code",
   "execution_count": 9,
   "id": "5ad66a52-4036-41eb-8a4a-b9e3efca1b2d",
   "metadata": {},
   "outputs": [],
   "source": [
    "health['Date'] = pd.to_datetime(health['Date'])"
   ]
  },
  {
   "cell_type": "code",
   "execution_count": 10,
   "id": "a0ab5893-f20b-4bc4-9229-60e373287d39",
   "metadata": {},
   "outputs": [],
   "source": [
    "df3 = df.join(health, how = 'left', lsuffix = 'Date', rsuffix = 'Date')"
   ]
  },
  {
   "cell_type": "code",
   "execution_count": 11,
   "id": "5d528e58-d9ed-4f36-81a8-ad618fd61e2d",
   "metadata": {},
   "outputs": [
    {
     "data": {
      "text/html": [
       "<div>\n",
       "<style scoped>\n",
       "    .dataframe tbody tr th:only-of-type {\n",
       "        vertical-align: middle;\n",
       "    }\n",
       "\n",
       "    .dataframe tbody tr th {\n",
       "        vertical-align: top;\n",
       "    }\n",
       "\n",
       "    .dataframe thead th {\n",
       "        text-align: right;\n",
       "    }\n",
       "</style>\n",
       "<table border=\"1\" class=\"dataframe\">\n",
       "  <thead>\n",
       "    <tr style=\"text-align: right;\">\n",
       "      <th></th>\n",
       "      <th>PROVNUM</th>\n",
       "      <th>PROVNAME</th>\n",
       "      <th>CITY</th>\n",
       "      <th>STATE</th>\n",
       "      <th>COUNTY_NAME</th>\n",
       "      <th>COUNTY_FIPS</th>\n",
       "      <th>CY_Qtr</th>\n",
       "      <th>DateDate</th>\n",
       "      <th>MDScensus</th>\n",
       "      <th>Hrs_RNDON</th>\n",
       "      <th>Hrs_RNDON_emp</th>\n",
       "      <th>Hrs_RNDON_ctr</th>\n",
       "      <th>Hrs_RNadmin</th>\n",
       "      <th>Hrs_RNadmin_emp</th>\n",
       "      <th>Hrs_RNadmin_ctr</th>\n",
       "      <th>Hrs_RN</th>\n",
       "      <th>Hrs_RN_emp</th>\n",
       "      <th>Hrs_RN_ctr</th>\n",
       "      <th>Hrs_LPNadmin</th>\n",
       "      <th>Hrs_LPNadmin_emp</th>\n",
       "      <th>Hrs_LPNadmin_ctr</th>\n",
       "      <th>Hrs_LPN</th>\n",
       "      <th>Hrs_LPN_emp</th>\n",
       "      <th>Hrs_LPN_ctr</th>\n",
       "      <th>Hrs_CNA</th>\n",
       "      <th>Hrs_CNA_emp</th>\n",
       "      <th>Hrs_CNA_ctr</th>\n",
       "      <th>Hrs_NAtrn</th>\n",
       "      <th>Hrs_NAtrn_emp</th>\n",
       "      <th>Hrs_NAtrn_ctr</th>\n",
       "      <th>Hrs_MedAide</th>\n",
       "      <th>Hrs_MedAide_emp</th>\n",
       "      <th>Hrs_MedAide_ctr</th>\n",
       "      <th>CMS Certification Number (CCN)</th>\n",
       "      <th>Provider Name</th>\n",
       "      <th>Provider Address</th>\n",
       "      <th>City/Town</th>\n",
       "      <th>State</th>\n",
       "      <th>ZIP Code</th>\n",
       "      <th>DateDate</th>\n",
       "      <th>Survey Type</th>\n",
       "      <th>Deficiency Prefix</th>\n",
       "      <th>Deficiency Category</th>\n",
       "      <th>Deficiency Tag Number</th>\n",
       "      <th>Deficiency Description</th>\n",
       "      <th>Scope Severity Code</th>\n",
       "      <th>Deficiency Corrected</th>\n",
       "      <th>Correction Date</th>\n",
       "      <th>Inspection Cycle</th>\n",
       "      <th>Standard Deficiency</th>\n",
       "      <th>Complaint Deficiency</th>\n",
       "      <th>Infection Control Inspection Deficiency</th>\n",
       "      <th>Citation under IDR</th>\n",
       "      <th>Citation under IIDR</th>\n",
       "      <th>Location</th>\n",
       "      <th>Processing Date</th>\n",
       "    </tr>\n",
       "  </thead>\n",
       "  <tbody>\n",
       "    <tr>\n",
       "      <th>0</th>\n",
       "      <td>015009</td>\n",
       "      <td>BURNS NURSING HOME, INC.</td>\n",
       "      <td>RUSSELLVILLE</td>\n",
       "      <td>AL</td>\n",
       "      <td>Franklin</td>\n",
       "      <td>59</td>\n",
       "      <td>2024Q2</td>\n",
       "      <td>20240401</td>\n",
       "      <td>51</td>\n",
       "      <td>10.77</td>\n",
       "      <td>10.77</td>\n",
       "      <td>0.0</td>\n",
       "      <td>10.40</td>\n",
       "      <td>10.40</td>\n",
       "      <td>0.0</td>\n",
       "      <td>55.70</td>\n",
       "      <td>55.70</td>\n",
       "      <td>0.0</td>\n",
       "      <td>0.0</td>\n",
       "      <td>0.0</td>\n",
       "      <td>0.0</td>\n",
       "      <td>25.50</td>\n",
       "      <td>25.50</td>\n",
       "      <td>0.0</td>\n",
       "      <td>160.08</td>\n",
       "      <td>160.08</td>\n",
       "      <td>0.0</td>\n",
       "      <td>0.0</td>\n",
       "      <td>0.0</td>\n",
       "      <td>0.0</td>\n",
       "      <td>0.0</td>\n",
       "      <td>0.0</td>\n",
       "      <td>0.0</td>\n",
       "      <td>015009</td>\n",
       "      <td>BURNS NURSING HOME, INC.</td>\n",
       "      <td>701 MONROE STREET NW</td>\n",
       "      <td>RUSSELLVILLE</td>\n",
       "      <td>AL</td>\n",
       "      <td>35653.0</td>\n",
       "      <td>2023-03-02</td>\n",
       "      <td>Health</td>\n",
       "      <td>F</td>\n",
       "      <td>Infection Control Deficiencies</td>\n",
       "      <td>880.0</td>\n",
       "      <td>Provide and implement an infection prevention ...</td>\n",
       "      <td>F</td>\n",
       "      <td>Deficient, Provider has date of correction</td>\n",
       "      <td>2023-04-06</td>\n",
       "      <td>1.0</td>\n",
       "      <td>Y</td>\n",
       "      <td>N</td>\n",
       "      <td>N</td>\n",
       "      <td>N</td>\n",
       "      <td>N</td>\n",
       "      <td>701 MONROE STREET NW,RUSSELLVILLE,AL,35653</td>\n",
       "      <td>2024-11-01</td>\n",
       "    </tr>\n",
       "    <tr>\n",
       "      <th>1</th>\n",
       "      <td>015009</td>\n",
       "      <td>BURNS NURSING HOME, INC.</td>\n",
       "      <td>RUSSELLVILLE</td>\n",
       "      <td>AL</td>\n",
       "      <td>Franklin</td>\n",
       "      <td>59</td>\n",
       "      <td>2024Q2</td>\n",
       "      <td>20240402</td>\n",
       "      <td>52</td>\n",
       "      <td>8.43</td>\n",
       "      <td>8.43</td>\n",
       "      <td>0.0</td>\n",
       "      <td>18.25</td>\n",
       "      <td>18.25</td>\n",
       "      <td>0.0</td>\n",
       "      <td>63.28</td>\n",
       "      <td>63.28</td>\n",
       "      <td>0.0</td>\n",
       "      <td>0.0</td>\n",
       "      <td>0.0</td>\n",
       "      <td>0.0</td>\n",
       "      <td>15.22</td>\n",
       "      <td>15.22</td>\n",
       "      <td>0.0</td>\n",
       "      <td>135.95</td>\n",
       "      <td>135.95</td>\n",
       "      <td>0.0</td>\n",
       "      <td>0.0</td>\n",
       "      <td>0.0</td>\n",
       "      <td>0.0</td>\n",
       "      <td>0.0</td>\n",
       "      <td>0.0</td>\n",
       "      <td>0.0</td>\n",
       "      <td>015009</td>\n",
       "      <td>BURNS NURSING HOME, INC.</td>\n",
       "      <td>701 MONROE STREET NW</td>\n",
       "      <td>RUSSELLVILLE</td>\n",
       "      <td>AL</td>\n",
       "      <td>35653.0</td>\n",
       "      <td>2023-03-02</td>\n",
       "      <td>Health</td>\n",
       "      <td>F</td>\n",
       "      <td>Resident Assessment and Care Planning Deficien...</td>\n",
       "      <td>656.0</td>\n",
       "      <td>Develop and implement a complete care plan tha...</td>\n",
       "      <td>J</td>\n",
       "      <td>Past Non-Compliance</td>\n",
       "      <td>2023-01-13</td>\n",
       "      <td>1.0</td>\n",
       "      <td>Y</td>\n",
       "      <td>Y</td>\n",
       "      <td>N</td>\n",
       "      <td>N</td>\n",
       "      <td>N</td>\n",
       "      <td>701 MONROE STREET NW,RUSSELLVILLE,AL,35653</td>\n",
       "      <td>2024-11-01</td>\n",
       "    </tr>\n",
       "  </tbody>\n",
       "</table>\n",
       "</div>"
      ],
      "text/plain": [
       "  PROVNUM                  PROVNAME          CITY STATE COUNTY_NAME  \\\n",
       "0  015009  BURNS NURSING HOME, INC.  RUSSELLVILLE    AL    Franklin   \n",
       "1  015009  BURNS NURSING HOME, INC.  RUSSELLVILLE    AL    Franklin   \n",
       "\n",
       "   COUNTY_FIPS  CY_Qtr  DateDate  MDScensus  Hrs_RNDON  Hrs_RNDON_emp  \\\n",
       "0           59  2024Q2  20240401         51      10.77          10.77   \n",
       "1           59  2024Q2  20240402         52       8.43           8.43   \n",
       "\n",
       "   Hrs_RNDON_ctr  Hrs_RNadmin  Hrs_RNadmin_emp  Hrs_RNadmin_ctr  Hrs_RN  \\\n",
       "0            0.0        10.40            10.40              0.0   55.70   \n",
       "1            0.0        18.25            18.25              0.0   63.28   \n",
       "\n",
       "   Hrs_RN_emp  Hrs_RN_ctr  Hrs_LPNadmin  Hrs_LPNadmin_emp  Hrs_LPNadmin_ctr  \\\n",
       "0       55.70         0.0           0.0               0.0               0.0   \n",
       "1       63.28         0.0           0.0               0.0               0.0   \n",
       "\n",
       "   Hrs_LPN  Hrs_LPN_emp  Hrs_LPN_ctr  Hrs_CNA  Hrs_CNA_emp  Hrs_CNA_ctr  \\\n",
       "0    25.50        25.50          0.0   160.08       160.08          0.0   \n",
       "1    15.22        15.22          0.0   135.95       135.95          0.0   \n",
       "\n",
       "   Hrs_NAtrn  Hrs_NAtrn_emp  Hrs_NAtrn_ctr  Hrs_MedAide  Hrs_MedAide_emp  \\\n",
       "0        0.0            0.0            0.0          0.0              0.0   \n",
       "1        0.0            0.0            0.0          0.0              0.0   \n",
       "\n",
       "   Hrs_MedAide_ctr CMS Certification Number (CCN)             Provider Name  \\\n",
       "0              0.0                         015009  BURNS NURSING HOME, INC.   \n",
       "1              0.0                         015009  BURNS NURSING HOME, INC.   \n",
       "\n",
       "       Provider Address     City/Town State  ZIP Code   DateDate Survey Type  \\\n",
       "0  701 MONROE STREET NW  RUSSELLVILLE    AL   35653.0 2023-03-02      Health   \n",
       "1  701 MONROE STREET NW  RUSSELLVILLE    AL   35653.0 2023-03-02      Health   \n",
       "\n",
       "  Deficiency Prefix                                Deficiency Category  \\\n",
       "0                 F                     Infection Control Deficiencies   \n",
       "1                 F  Resident Assessment and Care Planning Deficien...   \n",
       "\n",
       "   Deficiency Tag Number                             Deficiency Description  \\\n",
       "0                  880.0  Provide and implement an infection prevention ...   \n",
       "1                  656.0  Develop and implement a complete care plan tha...   \n",
       "\n",
       "  Scope Severity Code                        Deficiency Corrected  \\\n",
       "0                   F  Deficient, Provider has date of correction   \n",
       "1                   J                         Past Non-Compliance   \n",
       "\n",
       "  Correction Date  Inspection Cycle Standard Deficiency Complaint Deficiency  \\\n",
       "0      2023-04-06               1.0                   Y                    N   \n",
       "1      2023-01-13               1.0                   Y                    Y   \n",
       "\n",
       "  Infection Control Inspection Deficiency Citation under IDR  \\\n",
       "0                                       N                  N   \n",
       "1                                       N                  N   \n",
       "\n",
       "  Citation under IIDR                                    Location  \\\n",
       "0                   N  701 MONROE STREET NW,RUSSELLVILLE,AL,35653   \n",
       "1                   N  701 MONROE STREET NW,RUSSELLVILLE,AL,35653   \n",
       "\n",
       "  Processing Date  \n",
       "0      2024-11-01  \n",
       "1      2024-11-01  "
      ]
     },
     "execution_count": 11,
     "metadata": {},
     "output_type": "execute_result"
    }
   ],
   "source": [
    "df3.head(2)"
   ]
  },
  {
   "cell_type": "code",
   "execution_count": 12,
   "id": "84cb9c52-6f64-410b-9c89-bce65947a150",
   "metadata": {},
   "outputs": [],
   "source": [
    "df3.drop('STATE', axis = 1, inplace = True)"
   ]
  },
  {
   "cell_type": "code",
   "execution_count": 14,
   "id": "393d962b-19a0-405c-b52a-1bea676d4c8f",
   "metadata": {},
   "outputs": [],
   "source": [
    "df3.dropna(inplace = True)"
   ]
  },
  {
   "cell_type": "markdown",
   "id": "daa1da23-4e09-4da6-aef8-656d702c8377",
   "metadata": {},
   "source": [
    "# Scope Severity Code"
   ]
  },
  {
   "cell_type": "markdown",
   "id": "a171d5fc-860e-43dd-b451-10481d3ce040",
   "metadata": {},
   "source": [
    "Here we will take a look into the `Scope Severity Code`, which gives a code to signify the type of issues found within an audit. These codes work on a scale of 3, which means the first 3 letters are `A, B, C`, all under level 1 deficiency. Level 1 dificiency is no actual harm with potential for minimal harm. Each letter represents a level of _spread_ for the level its on, with `A` meaning isolated, `B` meaning pattern, and `C` meaning widespread. The rest of the code follows this pattern with a level going up every 3 letters. \n",
    "\n",
    "Here we will take a look into the states that have the worst rating `L` as well as the states with the lowest severity, `A`"
   ]
  },
  {
   "cell_type": "code",
   "execution_count": 13,
   "id": "daaa6ad7-cca8-4c7d-9432-11a199705f4c",
   "metadata": {
    "scrolled": true
   },
   "outputs": [
    {
     "data": {
      "text/plain": [
       "Scope Severity Code\n",
       "D    250291\n",
       "E     93493\n",
       "F     27467\n",
       "G     13226\n",
       "J      6114\n",
       "B      5467\n",
       "C      4921\n",
       "K      2269\n",
       "L       758\n",
       "H       574\n",
       "I        35\n",
       "Name: count, dtype: int64"
      ]
     },
     "execution_count": 13,
     "metadata": {},
     "output_type": "execute_result"
    }
   ],
   "source": [
    "df3['Scope Severity Code'].value_counts()"
   ]
  },
  {
   "cell_type": "code",
   "execution_count": 15,
   "id": "f28b7d76-7b84-4b24-a0f8-c6fd60270616",
   "metadata": {},
   "outputs": [],
   "source": [
    "west_states_list = ['CA', 'NV', 'OR', 'WA', 'ID', 'UT', 'AZ', 'NM', 'CO', 'WY', 'MT', 'ND', 'SD', 'NE', 'KS', 'OK', 'TX', 'LA', 'AR', 'MO', 'IA',\n",
    "                   'MN', 'MS', 'IL', 'HI']"
   ]
  },
  {
   "cell_type": "code",
   "execution_count": 16,
   "id": "104356fc-9480-43d6-b1ef-6ff9ff2675c9",
   "metadata": {},
   "outputs": [],
   "source": [
    "east_states_list = ['WI', 'Al', 'TN', 'KY', 'IN', 'MI', 'FL', 'GA', 'SC', 'NC', 'VA', 'WV', 'OH', 'PA', 'MD', 'DE', 'NJ', 'NY', 'CT', 'RI', 'MA',\n",
    "                    'NH', 'VT', 'ME', 'AK']"
   ]
  },
  {
   "cell_type": "code",
   "execution_count": 17,
   "id": "d7dd5547-fc44-4b09-af63-8f03be9b5693",
   "metadata": {},
   "outputs": [],
   "source": [
    "west_states = df3.loc[df3['State'].isin(west_states_list)]"
   ]
  },
  {
   "cell_type": "code",
   "execution_count": 18,
   "id": "77f7d2a8-ad98-457f-8391-2938f1f46f19",
   "metadata": {},
   "outputs": [],
   "source": [
    "east_states = df3.loc[df3['State'].isin(east_states_list)]"
   ]
  },
  {
   "cell_type": "code",
   "execution_count": 20,
   "id": "69971147-71c2-44b8-99e0-2bfb8cb010ef",
   "metadata": {},
   "outputs": [],
   "source": [
    "L_cases = west_states.loc[west_states['Scope Severity Code'] == 'L']"
   ]
  },
  {
   "cell_type": "code",
   "execution_count": 21,
   "id": "ebd49f68-bb33-4381-8b35-01554ebdf953",
   "metadata": {},
   "outputs": [
    {
     "data": {
      "image/png": "[encoded data removed]",
      "text/plain": [
       "<Figure size 640x480 with 1 Axes>"
      ]
     },
     "metadata": {},
     "output_type": "display_data"
    }
   ],
   "source": [
    "sns.countplot(data = west_states, y = 'State', hue = 'Scope Severity Code')\n",
    "plt.show();"
   ]
  },
  {
   "cell_type": "code",
   "execution_count": 22,
   "id": "27e370e8-ad16-413e-8055-885a93aaa04b",
   "metadata": {},
   "outputs": [
    {
     "data": {
      "image/png": "[encoded data removed]",
      "text/plain": [
       "<Figure size 640x480 with 1 Axes>"
      ]
     },
     "metadata": {},
     "output_type": "display_data"
    }
   ],
   "source": [
    "fig, ax = plt.subplots()\n",
    "cal_df = west_states.loc[west_states['State'] == 'CA']\n",
    "sns.countplot(data = cal_df, x = 'State', hue = 'Scope Severity Code')\n",
    "plt.show();"
   ]
  },
  {
   "cell_type": "code",
   "execution_count": 23,
   "id": "85c2ae8f-db14-49fd-bff8-22bbc1ef1a90",
   "metadata": {},
   "outputs": [
    {
     "data": {
      "text/plain": [
       "Scope Severity Code\n",
       "D    36005\n",
       "E    14393\n",
       "F     2319\n",
       "B     1539\n",
       "G     1061\n",
       "J      226\n",
       "K      145\n",
       "C      135\n",
       "L       98\n",
       "H       58\n",
       "I        1\n",
       "Name: count, dtype: int64"
      ]
     },
     "execution_count": 23,
     "metadata": {},
     "output_type": "execute_result"
    }
   ],
   "source": [
    "cal_df['Scope Severity Code'].value_counts()"
   ]
  },
  {
   "cell_type": "code",
   "execution_count": 87,
   "id": "28537ddc-fdab-4ac3-96f6-e363ed1d37be",
   "metadata": {},
   "outputs": [],
   "source": [
    "def scope_sev(df, rating, col):\n",
    "    data = df\n",
    "    rating_df = data.loc[data[col] == rating]\n",
    "\n",
    "    comp_dict = {}\n",
    "\n",
    "    for ind, row in rating_df.iterrows():\n",
    "        key = row['State']\n",
    "        value = row[col]\n",
    "\n",
    "        if key not in comp_dict:\n",
    "            comp_dict[key] = 0 \n",
    "        comp_dict[key] += 1\n",
    "\n",
    "    sorted_dict = dict(sorted(comp_dict.items(), reverse = True, key = lambda item : item[1]))\n",
    "    \n",
    "    if 'CA' in comp_dict:\n",
    "        state = 'western states'\n",
    "    else:\n",
    "        state = 'eastern states'\n",
    "   \n",
    "    \n",
    "    max_ = max(comp_dict, key = comp_dict.get)\n",
    "    min_ = min(comp_dict, key = comp_dict.get)\n",
    "\n",
    "    return f'The state with the most {rating} cases in the {state} is {max_}, with the lowest being {min_}'"
   ]
  },
  {
   "cell_type": "code",
   "execution_count": 88,
   "id": "dc78be52-dba8-419f-9362-77b7e2d4f72d",
   "metadata": {},
   "outputs": [
    {
     "data": {
      "text/plain": [
       "'The state with the most L cases in the western states is CA, with the lowest being AR'"
      ]
     },
     "execution_count": 88,
     "metadata": {},
     "output_type": "execute_result"
    }
   ],
   "source": [
    "scope_sev(west_states, 'L', 'Scope Severity Code')"
   ]
  },
  {
   "cell_type": "code",
   "execution_count": 89,
   "id": "d9d2b127-58cf-48a2-b2c0-8bb31d735c9a",
   "metadata": {},
   "outputs": [
    {
     "data": {
      "text/plain": [
       "'The state with the most L cases in the eastern states is NJ, with the lowest being CT'"
      ]
     },
     "execution_count": 89,
     "metadata": {},
     "output_type": "execute_result"
    }
   ],
   "source": [
    "scope_sev(east_states, 'L', 'Scope Severity Code')"
   ]
  },
  {
   "cell_type": "code",
   "execution_count": 182,
   "id": "89dafbaa-021e-4d34-96e6-bdf23707642e",
   "metadata": {},
   "outputs": [],
   "source": [
    "def scope_perc(df, rating, col, min_max):\n",
    "    data = df\n",
    "    rating_df = data.loc[data[col] == rating]\n",
    "\n",
    "    comp_dict = {}\n",
    "\n",
    "    for ind, row in rating_df.iterrows():\n",
    "        key = row['State']\n",
    "        value = row[col]\n",
    "\n",
    "        if key not in comp_dict:\n",
    "            comp_dict[key] = 0 \n",
    "        comp_dict[key] += 1\n",
    "\n",
    "    sorted_dict = dict(sorted(comp_dict.items(), reverse = True, key = lambda item : item[1]))\n",
    "    \n",
    "    if 'CA' in comp_dict:\n",
    "        state = 'western states'\n",
    "    else:\n",
    "        state = 'eastern states'\n",
    "   \n",
    "\n",
    "    if min_max == max:\n",
    "        max_ = max(comp_dict, key = comp_dict.get)\n",
    "        max_df = data.loc[data['State'] == max_]\n",
    "        max_df1 = max_df.loc[max_df['Scope Severity Code'] == rating]\n",
    "        count = len(max_df1)\n",
    "        total = len(rating_df)\n",
    "        percent = round((count / total) * 100, 2)\n",
    "        var = max_\n",
    "        return f'{var} has {count} report(s) of {rating} cases, resulting in taking up {percent}% of total {rating} cases'\n",
    "    \n",
    "    else:\n",
    "        min_ = min(comp_dict, key = comp_dict.get)\n",
    "        min_df = data.loc[data['State'] == min_]\n",
    "        min_df1 = min_df.loc[min_df['Scope Severity Code'] == rating]\n",
    "        count = len(min_df1)\n",
    "        total = len(rating_df)\n",
    "        percent = round((count / total) * 100, 2)\n",
    "        var = min_\n",
    "        return f'{var} has {count} report(s) of {rating} cases, resulting in taking up {percent}% of total {rating} cases'"
   ]
  },
  {
   "cell_type": "code",
   "execution_count": 183,
   "id": "b5336348-7d2b-4ab3-a314-090cbac68e7c",
   "metadata": {},
   "outputs": [
    {
     "data": {
      "text/plain": [
       "'CA has 98 report(s) of L cases, resulting in taking up 26.42% of total L cases'"
      ]
     },
     "execution_count": 183,
     "metadata": {},
     "output_type": "execute_result"
    }
   ],
   "source": [
    "scope_perc(west_states, 'L', 'Scope Severity Code', max)"
   ]
  },
  {
   "cell_type": "code",
   "execution_count": 184,
   "id": "07a61fac-14b3-40ae-8dde-ec2560e0609b",
   "metadata": {},
   "outputs": [
    {
     "data": {
      "text/plain": [
       "'AR has 1 report(s) of L cases, resulting in taking up 0.27% of total L cases'"
      ]
     },
     "execution_count": 184,
     "metadata": {},
     "output_type": "execute_result"
    }
   ],
   "source": [
    "scope_perc(west_states, 'L','Scope Severity Code', min)"
   ]
  },
  {
   "cell_type": "code",
   "execution_count": 186,
   "id": "49b6398a-fc35-4591-8f9f-8f1a74aa12d7",
   "metadata": {},
   "outputs": [
    {
     "data": {
      "text/plain": [
       "'CA has 36005 report(s) of D cases, resulting in taking up 29.1% of total D cases'"
      ]
     },
     "execution_count": 186,
     "metadata": {},
     "output_type": "execute_result"
    }
   ],
   "source": [
    "scope_perc(west_states, 'D','Scope Severity Code', max)"
   ]
  },
  {
   "cell_type": "code",
   "execution_count": 187,
   "id": "5e4dd186-c1df-4ac0-84be-3f43ac78258e",
   "metadata": {},
   "outputs": [
    {
     "data": {
      "text/plain": [
       "'WY has 364 report(s) of D cases, resulting in taking up 0.29% of total D cases'"
      ]
     },
     "execution_count": 187,
     "metadata": {},
     "output_type": "execute_result"
    }
   ],
   "source": [
    "scope_perc(west_states, 'D','Scope Severity Code', min)"
   ]
  },
  {
   "cell_type": "markdown",
   "id": "68c19900-463c-42de-9635-d890764ba152",
   "metadata": {},
   "source": [
    "# Recommendation 1\n",
    "## Ensuring the Quality of Contractors"
   ]
  },
  {
   "cell_type": "markdown",
   "id": "fa63ed00-220c-486f-b3d0-b7ca5a7c17e9",
   "metadata": {},
   "source": [
    "With the data showing distinct areas that are high in the `L` Scope Severity Code, we can clearly see that these areas need major attention, as this code signifies widespread immediate jeopardy to the residence health and safety. While mistakes do occur, as we are human, widespread pattern deficiencies are not human error, rather a lack of training, lack of care in the workspace, sinister intent, or all of the above. This can be a product of the contractors from _Clipboard Health_ or the full time employees on location. If the issue resided with the contractors, immediate suspension of the contractor may be necessary until a further investigation can be conducted to identify what is causing the issues with that specific individual. If _Clipboard Health_ is to be the best of the best, it may be a viable business move to incentivize personal growth of the contractors, with continued education being rewarded and reviwes from the facilities on individuals being a core aspect of the process. A rating from the facility on top of the _Clipboard Score_ could give more insight into an individual. A person who alwyas shows up to work can still be a bad employee. If _Clipboard Health_ contractors are not the cause of the issue, they can still make an impact on the facilities care for residence. With an _initiative and persistence_ mindset, contractors can themselves be the beacon of light that residence look towards, always being the best version of themselves, even if the workplace fights against that motive. Having reliable employees that always do whats right and always has the resident first is the easiets and most effective way for the company to grow, as building a reliable repuation is extremely important. \n",
    "\n",
    "When it comes to specifc locations that have a high reporing of consistant issues, It may also be important to look into where the responsable individuals were trained, as this could lead to a pattern of low quality contractors consistently being recruited from the same institutions. This can drastically effect the ability for _Clipboard Health_ to aquire new facilies as customers, as word of mouth is viable (and free) advertising."
   ]
  },
  {
   "cell_type": "markdown",
   "id": "7f265467-82e1-476b-83ae-2fc086213128",
   "metadata": {},
   "source": [
    "# Pain Point System"
   ]
  },
  {
   "cell_type": "markdown",
   "id": "bf7f5ff6-bfaa-4e00-bb7d-046cb3056922",
   "metadata": {},
   "source": [
    "Within the _CLipBoard Health APP_, I propose a contractor self identifying system, where a contractor can identify strenghts they possess, allowing for when facilities place a shift opening they can also but a tag on it that states a pain point they are currently having. This can send notifications to contractors that have that tag as a srength, allowing for a better match between contractors and facilities. This can be a major selling point for when creating partnerships with facilities as this apears to be an untapped market that _Clipboard Health_ can use to better suit the needs of facilities."
   ]
  },
  {
   "cell_type": "code",
   "execution_count": null,
   "id": "156cad45-9eee-4577-a375-af8362d1944a",
   "metadata": {},
   "outputs": [],
   "source": []
  }
 ],
 "metadata": {
  "kernelspec": {
   "display_name": "Python 3 (ipykernel)",
   "language": "python",
   "name": "python3"
  },
  "language_info": {
   "codemirror_mode": {
    "name": "ipython",
    "version": 3
   },
   "file_extension": ".py",
   "mimetype": "text/x-python",
   "name": "python",
   "nbconvert_exporter": "python",
   "pygments_lexer": "ipython3",
   "version": "3.12.3"
  }
 },
 "nbformat": 4,
 "nbformat_minor": 5
}
