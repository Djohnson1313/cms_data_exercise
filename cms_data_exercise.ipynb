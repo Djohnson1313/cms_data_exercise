{
 "cells": [
  {
   "cell_type": "markdown",
   "id": "16411742-2f5b-4390-8b33-4737ffb325b8",
   "metadata": {},
   "source": [
    "# CMS Data Exercise "
   ]
  },
  {
   "cell_type": "markdown",
   "id": "c944dbc9-cff4-4659-a29d-37c1f4e5ad86",
   "metadata": {},
   "source": [
    "## Author Infomation\n",
    "\n",
    "Name : Darryn Johnson \n",
    "\n",
    "Date Last Updated : 2/2/2025"
   ]
  },
  {
   "cell_type": "markdown",
   "id": "aa6cc4a5-f868-483f-932d-d079a59701c2",
   "metadata": {},
   "source": [
    "## Sources and Links\n",
    "\n",
    "Original Dataset : [Payroll Based Journal Daily Nurse Staffing](https://data.cms.gov/quality-of-care/payroll-based-journal-daily-nurse-staffing/data)"
   ]
  },
  {
   "cell_type": "markdown",
   "id": "0691172b-c6eb-4803-bf61-32a22189a737",
   "metadata": {},
   "source": [
    "# Imports"
   ]
  },
  {
   "cell_type": "code",
   "execution_count": 1,
   "id": "b2c8e66a-4fd0-4110-9c18-40cea97c06f7",
   "metadata": {},
   "outputs": [],
   "source": [
    "import pandas as pd\n",
    "import matplotlib.pyplot as plt\n",
    "import numpy as np"
   ]
  },
  {
   "cell_type": "code",
   "execution_count": 27,
   "id": "b9dba3fb-0aef-4903-bb2d-1fd3805b525e",
   "metadata": {},
   "outputs": [],
   "source": [
    "pd.set_option('display.max_columns', None)"
   ]
  },
  {
   "cell_type": "markdown",
   "id": "9a7165c4-92c5-443a-a49e-54e6b9ce9caf",
   "metadata": {},
   "source": [
    "## Reproducability"
   ]
  },
  {
   "cell_type": "markdown",
   "id": "7d54791e-37cc-42a0-82e2-bf8e4c12bd6a",
   "metadata": {},
   "source": []
  },
  {
   "cell_type": "markdown",
   "id": "0d38f56a-338d-4c94-a44d-b9cafb2bda7d",
   "metadata": {},
   "source": [
    "# Business Understanding "
   ]
  },
  {
   "cell_type": "markdown",
   "id": "0f4e2eb7-bd02-4b2b-87bd-b60392110c65",
   "metadata": {},
   "source": [
    "The purpose of the following notebook is to look into the data associated with staffing long-term care facilities. We will be using data such as `provider Name`, provider `City` and `State`, as well as other metrics used to identify "
   ]
  },
  {
   "cell_type": "code",
   "execution_count": null,
   "id": "bfa14c7d-a0a9-4cb5-bcdb-92c4d203d3a5",
   "metadata": {},
   "outputs": [],
   "source": []
  },
  {
   "cell_type": "code",
   "execution_count": null,
   "id": "fad1fa80-9562-4e65-a97c-a10995696435",
   "metadata": {},
   "outputs": [],
   "source": []
  },
  {
   "cell_type": "code",
   "execution_count": null,
   "id": "25e29e67-d322-4de6-88e2-d7ed439c0e1a",
   "metadata": {},
   "outputs": [],
   "source": []
  },
  {
   "cell_type": "code",
   "execution_count": null,
   "id": "7159ac30-7987-494c-adfe-c2bf46503b36",
   "metadata": {},
   "outputs": [],
   "source": []
  },
  {
   "cell_type": "code",
   "execution_count": null,
   "id": "3de03077-e840-4644-9996-d6eff072bce5",
   "metadata": {},
   "outputs": [],
   "source": []
  },
  {
   "cell_type": "code",
   "execution_count": null,
   "id": "0312026f-da6d-4208-8b29-74fb73445f99",
   "metadata": {},
   "outputs": [],
   "source": []
  },
  {
   "cell_type": "code",
   "execution_count": null,
   "id": "e0d90ed0-2afe-4a5f-9d59-f004acb621e9",
   "metadata": {},
   "outputs": [],
   "source": []
  },
  {
   "cell_type": "code",
   "execution_count": null,
   "id": "3945923b-1668-4c13-ab45-f1243ad20e99",
   "metadata": {},
   "outputs": [],
   "source": []
  },
  {
   "cell_type": "code",
   "execution_count": null,
   "id": "a1314795-cad2-4ce9-955f-bd9170277cd8",
   "metadata": {},
   "outputs": [],
   "source": []
  },
  {
   "cell_type": "markdown",
   "id": "3c749cb9-20c6-41a9-9838-0da9d70c5480",
   "metadata": {},
   "source": [
    "# Exploritory Data Analysis"
   ]
  },
  {
   "cell_type": "code",
   "execution_count": 2,
   "id": "190b1f3e-d2b6-4038-aefe-16606db979fc",
   "metadata": {},
   "outputs": [],
   "source": [
    "df = pd.read_csv('PBJ_Daily_Nurse_Staffing_Q2_2024.zip', encoding = 'Latin-1', low_memory = False)"
   ]
  },
  {
   "cell_type": "code",
   "execution_count": 3,
   "id": "fc0a1983-2346-4eea-883b-752da2efe3a7",
   "metadata": {},
   "outputs": [],
   "source": [
    "health = pd.read_csv('NH_HealthCitations_Nov2024.csv', low_memory = False)"
   ]
  },
  {
   "cell_type": "code",
   "execution_count": 4,
   "id": "30e67a48-ac26-4ef7-8d73-d7ede4aa6f13",
   "metadata": {},
   "outputs": [
    {
     "name": "stdout",
     "output_type": "stream",
     "text": [
      "<class 'pandas.core.frame.DataFrame'>\n",
      "RangeIndex: 1325324 entries, 0 to 1325323\n",
      "Data columns (total 33 columns):\n",
      " #   Column            Non-Null Count    Dtype  \n",
      "---  ------            --------------    -----  \n",
      " 0   PROVNUM           1325324 non-null  object \n",
      " 1   PROVNAME          1325324 non-null  object \n",
      " 2   CITY              1325324 non-null  object \n",
      " 3   STATE             1325324 non-null  object \n",
      " 4   COUNTY_NAME       1325324 non-null  object \n",
      " 5   COUNTY_FIPS       1325324 non-null  int64  \n",
      " 6   CY_Qtr            1325324 non-null  object \n",
      " 7   WorkDate          1325324 non-null  int64  \n",
      " 8   MDScensus         1325324 non-null  int64  \n",
      " 9   Hrs_RNDON         1325324 non-null  float64\n",
      " 10  Hrs_RNDON_emp     1325324 non-null  float64\n",
      " 11  Hrs_RNDON_ctr     1325324 non-null  float64\n",
      " 12  Hrs_RNadmin       1325324 non-null  float64\n",
      " 13  Hrs_RNadmin_emp   1325324 non-null  float64\n",
      " 14  Hrs_RNadmin_ctr   1325324 non-null  float64\n",
      " 15  Hrs_RN            1325324 non-null  float64\n",
      " 16  Hrs_RN_emp        1325324 non-null  float64\n",
      " 17  Hrs_RN_ctr        1325324 non-null  float64\n",
      " 18  Hrs_LPNadmin      1325324 non-null  float64\n",
      " 19  Hrs_LPNadmin_emp  1325324 non-null  float64\n",
      " 20  Hrs_LPNadmin_ctr  1325324 non-null  float64\n",
      " 21  Hrs_LPN           1325324 non-null  float64\n",
      " 22  Hrs_LPN_emp       1325324 non-null  float64\n",
      " 23  Hrs_LPN_ctr       1325324 non-null  float64\n",
      " 24  Hrs_CNA           1325324 non-null  float64\n",
      " 25  Hrs_CNA_emp       1325324 non-null  float64\n",
      " 26  Hrs_CNA_ctr       1325324 non-null  float64\n",
      " 27  Hrs_NAtrn         1325324 non-null  float64\n",
      " 28  Hrs_NAtrn_emp     1325324 non-null  float64\n",
      " 29  Hrs_NAtrn_ctr     1325324 non-null  float64\n",
      " 30  Hrs_MedAide       1325324 non-null  float64\n",
      " 31  Hrs_MedAide_emp   1325324 non-null  float64\n",
      " 32  Hrs_MedAide_ctr   1325324 non-null  float64\n",
      "dtypes: float64(24), int64(3), object(6)\n",
      "memory usage: 333.7+ MB\n"
     ]
    }
   ],
   "source": [
    "df.info()"
   ]
  },
  {
   "cell_type": "code",
   "execution_count": 5,
   "id": "f6df3409-1c26-43e2-8dab-ff80b4175b97",
   "metadata": {},
   "outputs": [
    {
     "data": {
      "text/html": [
       "<div>\n",
       "<style scoped>\n",
       "    .dataframe tbody tr th:only-of-type {\n",
       "        vertical-align: middle;\n",
       "    }\n",
       "\n",
       "    .dataframe tbody tr th {\n",
       "        vertical-align: top;\n",
       "    }\n",
       "\n",
       "    .dataframe thead th {\n",
       "        text-align: right;\n",
       "    }\n",
       "</style>\n",
       "<table border=\"1\" class=\"dataframe\">\n",
       "  <thead>\n",
       "    <tr style=\"text-align: right;\">\n",
       "      <th></th>\n",
       "      <th>PROVNUM</th>\n",
       "      <th>PROVNAME</th>\n",
       "      <th>CITY</th>\n",
       "      <th>STATE</th>\n",
       "      <th>COUNTY_NAME</th>\n",
       "      <th>COUNTY_FIPS</th>\n",
       "      <th>CY_Qtr</th>\n",
       "      <th>WorkDate</th>\n",
       "      <th>MDScensus</th>\n",
       "      <th>Hrs_RNDON</th>\n",
       "      <th>...</th>\n",
       "      <th>Hrs_LPN_ctr</th>\n",
       "      <th>Hrs_CNA</th>\n",
       "      <th>Hrs_CNA_emp</th>\n",
       "      <th>Hrs_CNA_ctr</th>\n",
       "      <th>Hrs_NAtrn</th>\n",
       "      <th>Hrs_NAtrn_emp</th>\n",
       "      <th>Hrs_NAtrn_ctr</th>\n",
       "      <th>Hrs_MedAide</th>\n",
       "      <th>Hrs_MedAide_emp</th>\n",
       "      <th>Hrs_MedAide_ctr</th>\n",
       "    </tr>\n",
       "  </thead>\n",
       "  <tbody>\n",
       "    <tr>\n",
       "      <th>0</th>\n",
       "      <td>015009</td>\n",
       "      <td>BURNS NURSING HOME, INC.</td>\n",
       "      <td>RUSSELLVILLE</td>\n",
       "      <td>AL</td>\n",
       "      <td>Franklin</td>\n",
       "      <td>59</td>\n",
       "      <td>2024Q2</td>\n",
       "      <td>20240401</td>\n",
       "      <td>51</td>\n",
       "      <td>10.77</td>\n",
       "      <td>...</td>\n",
       "      <td>0.0</td>\n",
       "      <td>160.08</td>\n",
       "      <td>160.08</td>\n",
       "      <td>0.0</td>\n",
       "      <td>0.0</td>\n",
       "      <td>0.0</td>\n",
       "      <td>0.0</td>\n",
       "      <td>0.0</td>\n",
       "      <td>0.0</td>\n",
       "      <td>0.0</td>\n",
       "    </tr>\n",
       "    <tr>\n",
       "      <th>1</th>\n",
       "      <td>015009</td>\n",
       "      <td>BURNS NURSING HOME, INC.</td>\n",
       "      <td>RUSSELLVILLE</td>\n",
       "      <td>AL</td>\n",
       "      <td>Franklin</td>\n",
       "      <td>59</td>\n",
       "      <td>2024Q2</td>\n",
       "      <td>20240402</td>\n",
       "      <td>52</td>\n",
       "      <td>8.43</td>\n",
       "      <td>...</td>\n",
       "      <td>0.0</td>\n",
       "      <td>135.95</td>\n",
       "      <td>135.95</td>\n",
       "      <td>0.0</td>\n",
       "      <td>0.0</td>\n",
       "      <td>0.0</td>\n",
       "      <td>0.0</td>\n",
       "      <td>0.0</td>\n",
       "      <td>0.0</td>\n",
       "      <td>0.0</td>\n",
       "    </tr>\n",
       "    <tr>\n",
       "      <th>2</th>\n",
       "      <td>015009</td>\n",
       "      <td>BURNS NURSING HOME, INC.</td>\n",
       "      <td>RUSSELLVILLE</td>\n",
       "      <td>AL</td>\n",
       "      <td>Franklin</td>\n",
       "      <td>59</td>\n",
       "      <td>2024Q2</td>\n",
       "      <td>20240403</td>\n",
       "      <td>53</td>\n",
       "      <td>11.13</td>\n",
       "      <td>...</td>\n",
       "      <td>0.0</td>\n",
       "      <td>150.31</td>\n",
       "      <td>150.31</td>\n",
       "      <td>0.0</td>\n",
       "      <td>0.0</td>\n",
       "      <td>0.0</td>\n",
       "      <td>0.0</td>\n",
       "      <td>0.0</td>\n",
       "      <td>0.0</td>\n",
       "      <td>0.0</td>\n",
       "    </tr>\n",
       "  </tbody>\n",
       "</table>\n",
       "<p>3 rows × 33 columns</p>\n",
       "</div>"
      ],
      "text/plain": [
       "  PROVNUM                  PROVNAME          CITY STATE COUNTY_NAME  \\\n",
       "0  015009  BURNS NURSING HOME, INC.  RUSSELLVILLE    AL    Franklin   \n",
       "1  015009  BURNS NURSING HOME, INC.  RUSSELLVILLE    AL    Franklin   \n",
       "2  015009  BURNS NURSING HOME, INC.  RUSSELLVILLE    AL    Franklin   \n",
       "\n",
       "   COUNTY_FIPS  CY_Qtr  WorkDate  MDScensus  Hrs_RNDON  ...  Hrs_LPN_ctr  \\\n",
       "0           59  2024Q2  20240401         51      10.77  ...          0.0   \n",
       "1           59  2024Q2  20240402         52       8.43  ...          0.0   \n",
       "2           59  2024Q2  20240403         53      11.13  ...          0.0   \n",
       "\n",
       "   Hrs_CNA  Hrs_CNA_emp  Hrs_CNA_ctr  Hrs_NAtrn  Hrs_NAtrn_emp  Hrs_NAtrn_ctr  \\\n",
       "0   160.08       160.08          0.0        0.0            0.0            0.0   \n",
       "1   135.95       135.95          0.0        0.0            0.0            0.0   \n",
       "2   150.31       150.31          0.0        0.0            0.0            0.0   \n",
       "\n",
       "   Hrs_MedAide  Hrs_MedAide_emp  Hrs_MedAide_ctr  \n",
       "0          0.0              0.0              0.0  \n",
       "1          0.0              0.0              0.0  \n",
       "2          0.0              0.0              0.0  \n",
       "\n",
       "[3 rows x 33 columns]"
      ]
     },
     "execution_count": 5,
     "metadata": {},
     "output_type": "execute_result"
    }
   ],
   "source": [
    "df.head(3)"
   ]
  },
  {
   "cell_type": "code",
   "execution_count": 6,
   "id": "5f798644-ce3d-4847-9f3a-fac827e91372",
   "metadata": {},
   "outputs": [],
   "source": [
    "df.rename(columns = {'WorkDate' : 'Date'}, inplace = True)"
   ]
  },
  {
   "cell_type": "code",
   "execution_count": 7,
   "id": "65766438-cdad-44e7-a76f-aebc4f0fc82f",
   "metadata": {},
   "outputs": [],
   "source": [
    "#df['Date'] = pd.to_datetime(df['Date'])"
   ]
  },
  {
   "cell_type": "code",
   "execution_count": 8,
   "id": "169ffbf6-2c63-4d4e-b72a-22e332de7d48",
   "metadata": {},
   "outputs": [
    {
     "name": "stdout",
     "output_type": "stream",
     "text": [
      "<class 'pandas.core.frame.DataFrame'>\n",
      "RangeIndex: 1325324 entries, 0 to 1325323\n",
      "Data columns (total 33 columns):\n",
      " #   Column            Non-Null Count    Dtype  \n",
      "---  ------            --------------    -----  \n",
      " 0   PROVNUM           1325324 non-null  object \n",
      " 1   PROVNAME          1325324 non-null  object \n",
      " 2   CITY              1325324 non-null  object \n",
      " 3   STATE             1325324 non-null  object \n",
      " 4   COUNTY_NAME       1325324 non-null  object \n",
      " 5   COUNTY_FIPS       1325324 non-null  int64  \n",
      " 6   CY_Qtr            1325324 non-null  object \n",
      " 7   Date              1325324 non-null  int64  \n",
      " 8   MDScensus         1325324 non-null  int64  \n",
      " 9   Hrs_RNDON         1325324 non-null  float64\n",
      " 10  Hrs_RNDON_emp     1325324 non-null  float64\n",
      " 11  Hrs_RNDON_ctr     1325324 non-null  float64\n",
      " 12  Hrs_RNadmin       1325324 non-null  float64\n",
      " 13  Hrs_RNadmin_emp   1325324 non-null  float64\n",
      " 14  Hrs_RNadmin_ctr   1325324 non-null  float64\n",
      " 15  Hrs_RN            1325324 non-null  float64\n",
      " 16  Hrs_RN_emp        1325324 non-null  float64\n",
      " 17  Hrs_RN_ctr        1325324 non-null  float64\n",
      " 18  Hrs_LPNadmin      1325324 non-null  float64\n",
      " 19  Hrs_LPNadmin_emp  1325324 non-null  float64\n",
      " 20  Hrs_LPNadmin_ctr  1325324 non-null  float64\n",
      " 21  Hrs_LPN           1325324 non-null  float64\n",
      " 22  Hrs_LPN_emp       1325324 non-null  float64\n",
      " 23  Hrs_LPN_ctr       1325324 non-null  float64\n",
      " 24  Hrs_CNA           1325324 non-null  float64\n",
      " 25  Hrs_CNA_emp       1325324 non-null  float64\n",
      " 26  Hrs_CNA_ctr       1325324 non-null  float64\n",
      " 27  Hrs_NAtrn         1325324 non-null  float64\n",
      " 28  Hrs_NAtrn_emp     1325324 non-null  float64\n",
      " 29  Hrs_NAtrn_ctr     1325324 non-null  float64\n",
      " 30  Hrs_MedAide       1325324 non-null  float64\n",
      " 31  Hrs_MedAide_emp   1325324 non-null  float64\n",
      " 32  Hrs_MedAide_ctr   1325324 non-null  float64\n",
      "dtypes: float64(24), int64(3), object(6)\n",
      "memory usage: 333.7+ MB\n"
     ]
    }
   ],
   "source": [
    "df.info()"
   ]
  },
  {
   "cell_type": "code",
   "execution_count": 9,
   "id": "94bfb9b1-d59f-4122-88ea-8065d1f9e47a",
   "metadata": {},
   "outputs": [
    {
     "data": {
      "text/plain": [
       "CY_Qtr\n",
       "2024Q2    1325324\n",
       "Name: count, dtype: int64"
      ]
     },
     "execution_count": 9,
     "metadata": {},
     "output_type": "execute_result"
    }
   ],
   "source": [
    "df['CY_Qtr'].value_counts()"
   ]
  },
  {
   "cell_type": "code",
   "execution_count": 29,
   "id": "ce9ed0b8-7c38-4648-88ff-3c7e4701473a",
   "metadata": {
    "scrolled": true
   },
   "outputs": [
    {
     "data": {
      "text/html": [
       "<div>\n",
       "<style scoped>\n",
       "    .dataframe tbody tr th:only-of-type {\n",
       "        vertical-align: middle;\n",
       "    }\n",
       "\n",
       "    .dataframe tbody tr th {\n",
       "        vertical-align: top;\n",
       "    }\n",
       "\n",
       "    .dataframe thead th {\n",
       "        text-align: right;\n",
       "    }\n",
       "</style>\n",
       "<table border=\"1\" class=\"dataframe\">\n",
       "  <thead>\n",
       "    <tr style=\"text-align: right;\">\n",
       "      <th></th>\n",
       "      <th>CMS Certification Number (CCN)</th>\n",
       "      <th>Provider Name</th>\n",
       "      <th>Provider Address</th>\n",
       "      <th>City/Town</th>\n",
       "      <th>State</th>\n",
       "      <th>ZIP Code</th>\n",
       "      <th>Date</th>\n",
       "      <th>Survey Type</th>\n",
       "      <th>Deficiency Prefix</th>\n",
       "      <th>Deficiency Category</th>\n",
       "      <th>Deficiency Tag Number</th>\n",
       "      <th>Deficiency Description</th>\n",
       "      <th>Scope Severity Code</th>\n",
       "      <th>Deficiency Corrected</th>\n",
       "      <th>Correction Date</th>\n",
       "      <th>Inspection Cycle</th>\n",
       "      <th>Standard Deficiency</th>\n",
       "      <th>Complaint Deficiency</th>\n",
       "      <th>Infection Control Inspection Deficiency</th>\n",
       "      <th>Citation under IDR</th>\n",
       "      <th>Citation under IIDR</th>\n",
       "      <th>Location</th>\n",
       "      <th>Processing Date</th>\n",
       "    </tr>\n",
       "  </thead>\n",
       "  <tbody>\n",
       "    <tr>\n",
       "      <th>0</th>\n",
       "      <td>015009</td>\n",
       "      <td>BURNS NURSING HOME, INC.</td>\n",
       "      <td>701 MONROE STREET NW</td>\n",
       "      <td>RUSSELLVILLE</td>\n",
       "      <td>AL</td>\n",
       "      <td>35653</td>\n",
       "      <td>2023-03-02</td>\n",
       "      <td>Health</td>\n",
       "      <td>F</td>\n",
       "      <td>Infection Control Deficiencies</td>\n",
       "      <td>880</td>\n",
       "      <td>Provide and implement an infection prevention ...</td>\n",
       "      <td>F</td>\n",
       "      <td>Deficient, Provider has date of correction</td>\n",
       "      <td>2023-04-06</td>\n",
       "      <td>1</td>\n",
       "      <td>Y</td>\n",
       "      <td>N</td>\n",
       "      <td>N</td>\n",
       "      <td>N</td>\n",
       "      <td>N</td>\n",
       "      <td>701 MONROE STREET NW,RUSSELLVILLE,AL,35653</td>\n",
       "      <td>2024-11-01</td>\n",
       "    </tr>\n",
       "  </tbody>\n",
       "</table>\n",
       "</div>"
      ],
      "text/plain": [
       "  CMS Certification Number (CCN)             Provider Name  \\\n",
       "0                         015009  BURNS NURSING HOME, INC.   \n",
       "\n",
       "       Provider Address     City/Town State  ZIP Code       Date Survey Type  \\\n",
       "0  701 MONROE STREET NW  RUSSELLVILLE    AL     35653 2023-03-02      Health   \n",
       "\n",
       "  Deficiency Prefix             Deficiency Category  Deficiency Tag Number  \\\n",
       "0                 F  Infection Control Deficiencies                    880   \n",
       "\n",
       "                              Deficiency Description Scope Severity Code  \\\n",
       "0  Provide and implement an infection prevention ...                   F   \n",
       "\n",
       "                         Deficiency Corrected Correction Date  \\\n",
       "0  Deficient, Provider has date of correction      2023-04-06   \n",
       "\n",
       "   Inspection Cycle Standard Deficiency Complaint Deficiency  \\\n",
       "0                 1                   Y                    N   \n",
       "\n",
       "  Infection Control Inspection Deficiency Citation under IDR  \\\n",
       "0                                       N                  N   \n",
       "\n",
       "  Citation under IIDR                                    Location  \\\n",
       "0                   N  701 MONROE STREET NW,RUSSELLVILLE,AL,35653   \n",
       "\n",
       "  Processing Date  \n",
       "0      2024-11-01  "
      ]
     },
     "execution_count": 29,
     "metadata": {},
     "output_type": "execute_result"
    }
   ],
   "source": [
    "health.head(1)"
   ]
  },
  {
   "cell_type": "code",
   "execution_count": 11,
   "id": "2bda6a24-4499-4de8-b67c-3fd5ecd6adfb",
   "metadata": {},
   "outputs": [
    {
     "name": "stdout",
     "output_type": "stream",
     "text": [
      "<class 'pandas.core.frame.DataFrame'>\n",
      "RangeIndex: 404615 entries, 0 to 404614\n",
      "Data columns (total 23 columns):\n",
      " #   Column                                   Non-Null Count   Dtype \n",
      "---  ------                                   --------------   ----- \n",
      " 0   CMS Certification Number (CCN)           404615 non-null  object\n",
      " 1   Provider Name                            404615 non-null  object\n",
      " 2   Provider Address                         404615 non-null  object\n",
      " 3   City/Town                                404615 non-null  object\n",
      " 4   State                                    404615 non-null  object\n",
      " 5   ZIP Code                                 404615 non-null  int64 \n",
      " 6   Survey Date                              404615 non-null  object\n",
      " 7   Survey Type                              404615 non-null  object\n",
      " 8   Deficiency Prefix                        404615 non-null  object\n",
      " 9   Deficiency Category                      404615 non-null  object\n",
      " 10  Deficiency Tag Number                    404615 non-null  int64 \n",
      " 11  Deficiency Description                   404615 non-null  object\n",
      " 12  Scope Severity Code                      404615 non-null  object\n",
      " 13  Deficiency Corrected                     404615 non-null  object\n",
      " 14  Correction Date                          403170 non-null  object\n",
      " 15  Inspection Cycle                         404615 non-null  int64 \n",
      " 16  Standard Deficiency                      404615 non-null  object\n",
      " 17  Complaint Deficiency                     404615 non-null  object\n",
      " 18  Infection Control Inspection Deficiency  404615 non-null  object\n",
      " 19  Citation under IDR                       404615 non-null  object\n",
      " 20  Citation under IIDR                      404615 non-null  object\n",
      " 21  Location                                 404615 non-null  object\n",
      " 22  Processing Date                          404615 non-null  object\n",
      "dtypes: int64(3), object(20)\n",
      "memory usage: 71.0+ MB\n"
     ]
    }
   ],
   "source": [
    "health.info()"
   ]
  },
  {
   "cell_type": "code",
   "execution_count": 12,
   "id": "3a6f7afe-85c8-4982-ba1c-ec503e1e3c42",
   "metadata": {},
   "outputs": [],
   "source": [
    "health.rename(columns = {'Survey Date' : 'Date'}, inplace = True)"
   ]
  },
  {
   "cell_type": "code",
   "execution_count": 13,
   "id": "5ad66a52-4036-41eb-8a4a-b9e3efca1b2d",
   "metadata": {},
   "outputs": [],
   "source": [
    "health['Date'] = pd.to_datetime(health['Date'])"
   ]
  },
  {
   "cell_type": "code",
   "execution_count": 14,
   "id": "bf8e8948-8648-491d-9f93-314a0c9664f1",
   "metadata": {},
   "outputs": [
    {
     "name": "stdout",
     "output_type": "stream",
     "text": [
      "<class 'pandas.core.frame.DataFrame'>\n",
      "RangeIndex: 404615 entries, 0 to 404614\n",
      "Data columns (total 23 columns):\n",
      " #   Column                                   Non-Null Count   Dtype         \n",
      "---  ------                                   --------------   -----         \n",
      " 0   CMS Certification Number (CCN)           404615 non-null  object        \n",
      " 1   Provider Name                            404615 non-null  object        \n",
      " 2   Provider Address                         404615 non-null  object        \n",
      " 3   City/Town                                404615 non-null  object        \n",
      " 4   State                                    404615 non-null  object        \n",
      " 5   ZIP Code                                 404615 non-null  int64         \n",
      " 6   Date                                     404615 non-null  datetime64[ns]\n",
      " 7   Survey Type                              404615 non-null  object        \n",
      " 8   Deficiency Prefix                        404615 non-null  object        \n",
      " 9   Deficiency Category                      404615 non-null  object        \n",
      " 10  Deficiency Tag Number                    404615 non-null  int64         \n",
      " 11  Deficiency Description                   404615 non-null  object        \n",
      " 12  Scope Severity Code                      404615 non-null  object        \n",
      " 13  Deficiency Corrected                     404615 non-null  object        \n",
      " 14  Correction Date                          403170 non-null  object        \n",
      " 15  Inspection Cycle                         404615 non-null  int64         \n",
      " 16  Standard Deficiency                      404615 non-null  object        \n",
      " 17  Complaint Deficiency                     404615 non-null  object        \n",
      " 18  Infection Control Inspection Deficiency  404615 non-null  object        \n",
      " 19  Citation under IDR                       404615 non-null  object        \n",
      " 20  Citation under IIDR                      404615 non-null  object        \n",
      " 21  Location                                 404615 non-null  object        \n",
      " 22  Processing Date                          404615 non-null  object        \n",
      "dtypes: datetime64[ns](1), int64(3), object(19)\n",
      "memory usage: 71.0+ MB\n"
     ]
    }
   ],
   "source": [
    "health.info()"
   ]
  },
  {
   "cell_type": "code",
   "execution_count": 15,
   "id": "a3104355-c244-4df4-99ed-c3fec8075180",
   "metadata": {},
   "outputs": [],
   "source": [
    "#health_q = health[(health['Date'] >= '2024-4-1') & (health['Date'] <= '2024-6-30')].copy()"
   ]
  },
  {
   "cell_type": "code",
   "execution_count": 16,
   "id": "62b17adb-ab8e-455d-9a6c-2d19881e8d37",
   "metadata": {},
   "outputs": [],
   "source": [
    "#health_q['Date'] = pd.to_datetime(health_q['Date'])"
   ]
  },
  {
   "cell_type": "code",
   "execution_count": 17,
   "id": "1b008e0b-6579-45d7-915d-1f217c348d18",
   "metadata": {
    "scrolled": true
   },
   "outputs": [],
   "source": [
    "#health_q.head()"
   ]
  },
  {
   "cell_type": "code",
   "execution_count": 18,
   "id": "a7eb10fc-0d05-414c-9833-7ec37140fdad",
   "metadata": {
    "scrolled": true
   },
   "outputs": [],
   "source": [
    "#health_q.info()"
   ]
  },
  {
   "cell_type": "code",
   "execution_count": 19,
   "id": "eb45a9f9-c5f0-4248-a9ac-c6d807b6003d",
   "metadata": {},
   "outputs": [],
   "source": [
    "#df['Date'] = df['Date'].dt.strftime('%Y-%m-%d')\n",
    "#health_q['Date'] = health_q['Date'].dt.strftime('%Y-%m-%d')"
   ]
  },
  {
   "cell_type": "code",
   "execution_count": 23,
   "id": "a0ab5893-f20b-4bc4-9229-60e373287d39",
   "metadata": {},
   "outputs": [],
   "source": [
    "df3 = df.join(health, how = 'left', lsuffix = 'Date', rsuffix = 'Date')"
   ]
  },
  {
   "cell_type": "code",
   "execution_count": 26,
   "id": "5d528e58-d9ed-4f36-81a8-ad618fd61e2d",
   "metadata": {},
   "outputs": [
    {
     "data": {
      "text/html": [
       "<div>\n",
       "<style scoped>\n",
       "    .dataframe tbody tr th:only-of-type {\n",
       "        vertical-align: middle;\n",
       "    }\n",
       "\n",
       "    .dataframe tbody tr th {\n",
       "        vertical-align: top;\n",
       "    }\n",
       "\n",
       "    .dataframe thead th {\n",
       "        text-align: right;\n",
       "    }\n",
       "</style>\n",
       "<table border=\"1\" class=\"dataframe\">\n",
       "  <thead>\n",
       "    <tr style=\"text-align: right;\">\n",
       "      <th></th>\n",
       "      <th>PROVNUM</th>\n",
       "      <th>PROVNAME</th>\n",
       "      <th>CITY</th>\n",
       "      <th>STATE</th>\n",
       "      <th>COUNTY_NAME</th>\n",
       "      <th>COUNTY_FIPS</th>\n",
       "      <th>CY_Qtr</th>\n",
       "      <th>DateDate</th>\n",
       "      <th>MDScensus</th>\n",
       "      <th>Hrs_RNDON</th>\n",
       "      <th>Hrs_RNDON_emp</th>\n",
       "      <th>Hrs_RNDON_ctr</th>\n",
       "      <th>Hrs_RNadmin</th>\n",
       "      <th>Hrs_RNadmin_emp</th>\n",
       "      <th>Hrs_RNadmin_ctr</th>\n",
       "      <th>Hrs_RN</th>\n",
       "      <th>Hrs_RN_emp</th>\n",
       "      <th>Hrs_RN_ctr</th>\n",
       "      <th>Hrs_LPNadmin</th>\n",
       "      <th>Hrs_LPNadmin_emp</th>\n",
       "      <th>Hrs_LPNadmin_ctr</th>\n",
       "      <th>Hrs_LPN</th>\n",
       "      <th>Hrs_LPN_emp</th>\n",
       "      <th>Hrs_LPN_ctr</th>\n",
       "      <th>Hrs_CNA</th>\n",
       "      <th>Hrs_CNA_emp</th>\n",
       "      <th>Hrs_CNA_ctr</th>\n",
       "      <th>Hrs_NAtrn</th>\n",
       "      <th>Hrs_NAtrn_emp</th>\n",
       "      <th>Hrs_NAtrn_ctr</th>\n",
       "      <th>Hrs_MedAide</th>\n",
       "      <th>Hrs_MedAide_emp</th>\n",
       "      <th>Hrs_MedAide_ctr</th>\n",
       "      <th>CMS Certification Number (CCN)</th>\n",
       "      <th>Provider Name</th>\n",
       "      <th>Provider Address</th>\n",
       "      <th>City/Town</th>\n",
       "      <th>State</th>\n",
       "      <th>ZIP Code</th>\n",
       "      <th>DateDate</th>\n",
       "      <th>Survey Type</th>\n",
       "      <th>Deficiency Prefix</th>\n",
       "      <th>Deficiency Category</th>\n",
       "      <th>Deficiency Tag Number</th>\n",
       "      <th>Deficiency Description</th>\n",
       "      <th>Scope Severity Code</th>\n",
       "      <th>Deficiency Corrected</th>\n",
       "      <th>Correction Date</th>\n",
       "      <th>Inspection Cycle</th>\n",
       "      <th>Standard Deficiency</th>\n",
       "      <th>Complaint Deficiency</th>\n",
       "      <th>Infection Control Inspection Deficiency</th>\n",
       "      <th>Citation under IDR</th>\n",
       "      <th>Citation under IIDR</th>\n",
       "      <th>Location</th>\n",
       "      <th>Processing Date</th>\n",
       "    </tr>\n",
       "  </thead>\n",
       "  <tbody>\n",
       "    <tr>\n",
       "      <th>0</th>\n",
       "      <td>015009</td>\n",
       "      <td>BURNS NURSING HOME, INC.</td>\n",
       "      <td>RUSSELLVILLE</td>\n",
       "      <td>AL</td>\n",
       "      <td>Franklin</td>\n",
       "      <td>59</td>\n",
       "      <td>2024Q2</td>\n",
       "      <td>20240401</td>\n",
       "      <td>51</td>\n",
       "      <td>10.77</td>\n",
       "      <td>10.77</td>\n",
       "      <td>0.0</td>\n",
       "      <td>10.40</td>\n",
       "      <td>10.40</td>\n",
       "      <td>0.0</td>\n",
       "      <td>55.70</td>\n",
       "      <td>55.70</td>\n",
       "      <td>0.0</td>\n",
       "      <td>0.0</td>\n",
       "      <td>0.0</td>\n",
       "      <td>0.0</td>\n",
       "      <td>25.50</td>\n",
       "      <td>25.50</td>\n",
       "      <td>0.0</td>\n",
       "      <td>160.08</td>\n",
       "      <td>160.08</td>\n",
       "      <td>0.0</td>\n",
       "      <td>0.0</td>\n",
       "      <td>0.0</td>\n",
       "      <td>0.0</td>\n",
       "      <td>0.0</td>\n",
       "      <td>0.0</td>\n",
       "      <td>0.0</td>\n",
       "      <td>015009</td>\n",
       "      <td>BURNS NURSING HOME, INC.</td>\n",
       "      <td>701 MONROE STREET NW</td>\n",
       "      <td>RUSSELLVILLE</td>\n",
       "      <td>AL</td>\n",
       "      <td>35653.0</td>\n",
       "      <td>2023-03-02</td>\n",
       "      <td>Health</td>\n",
       "      <td>F</td>\n",
       "      <td>Infection Control Deficiencies</td>\n",
       "      <td>880.0</td>\n",
       "      <td>Provide and implement an infection prevention ...</td>\n",
       "      <td>F</td>\n",
       "      <td>Deficient, Provider has date of correction</td>\n",
       "      <td>2023-04-06</td>\n",
       "      <td>1.0</td>\n",
       "      <td>Y</td>\n",
       "      <td>N</td>\n",
       "      <td>N</td>\n",
       "      <td>N</td>\n",
       "      <td>N</td>\n",
       "      <td>701 MONROE STREET NW,RUSSELLVILLE,AL,35653</td>\n",
       "      <td>2024-11-01</td>\n",
       "    </tr>\n",
       "    <tr>\n",
       "      <th>1</th>\n",
       "      <td>015009</td>\n",
       "      <td>BURNS NURSING HOME, INC.</td>\n",
       "      <td>RUSSELLVILLE</td>\n",
       "      <td>AL</td>\n",
       "      <td>Franklin</td>\n",
       "      <td>59</td>\n",
       "      <td>2024Q2</td>\n",
       "      <td>20240402</td>\n",
       "      <td>52</td>\n",
       "      <td>8.43</td>\n",
       "      <td>8.43</td>\n",
       "      <td>0.0</td>\n",
       "      <td>18.25</td>\n",
       "      <td>18.25</td>\n",
       "      <td>0.0</td>\n",
       "      <td>63.28</td>\n",
       "      <td>63.28</td>\n",
       "      <td>0.0</td>\n",
       "      <td>0.0</td>\n",
       "      <td>0.0</td>\n",
       "      <td>0.0</td>\n",
       "      <td>15.22</td>\n",
       "      <td>15.22</td>\n",
       "      <td>0.0</td>\n",
       "      <td>135.95</td>\n",
       "      <td>135.95</td>\n",
       "      <td>0.0</td>\n",
       "      <td>0.0</td>\n",
       "      <td>0.0</td>\n",
       "      <td>0.0</td>\n",
       "      <td>0.0</td>\n",
       "      <td>0.0</td>\n",
       "      <td>0.0</td>\n",
       "      <td>015009</td>\n",
       "      <td>BURNS NURSING HOME, INC.</td>\n",
       "      <td>701 MONROE STREET NW</td>\n",
       "      <td>RUSSELLVILLE</td>\n",
       "      <td>AL</td>\n",
       "      <td>35653.0</td>\n",
       "      <td>2023-03-02</td>\n",
       "      <td>Health</td>\n",
       "      <td>F</td>\n",
       "      <td>Resident Assessment and Care Planning Deficien...</td>\n",
       "      <td>656.0</td>\n",
       "      <td>Develop and implement a complete care plan tha...</td>\n",
       "      <td>J</td>\n",
       "      <td>Past Non-Compliance</td>\n",
       "      <td>2023-01-13</td>\n",
       "      <td>1.0</td>\n",
       "      <td>Y</td>\n",
       "      <td>Y</td>\n",
       "      <td>N</td>\n",
       "      <td>N</td>\n",
       "      <td>N</td>\n",
       "      <td>701 MONROE STREET NW,RUSSELLVILLE,AL,35653</td>\n",
       "      <td>2024-11-01</td>\n",
       "    </tr>\n",
       "  </tbody>\n",
       "</table>\n",
       "</div>"
      ],
      "text/plain": [
       "  PROVNUM                  PROVNAME          CITY STATE COUNTY_NAME  \\\n",
       "0  015009  BURNS NURSING HOME, INC.  RUSSELLVILLE    AL    Franklin   \n",
       "1  015009  BURNS NURSING HOME, INC.  RUSSELLVILLE    AL    Franklin   \n",
       "\n",
       "   COUNTY_FIPS  CY_Qtr  DateDate  MDScensus  Hrs_RNDON  Hrs_RNDON_emp  \\\n",
       "0           59  2024Q2  20240401         51      10.77          10.77   \n",
       "1           59  2024Q2  20240402         52       8.43           8.43   \n",
       "\n",
       "   Hrs_RNDON_ctr  Hrs_RNadmin  Hrs_RNadmin_emp  Hrs_RNadmin_ctr  Hrs_RN  \\\n",
       "0            0.0        10.40            10.40              0.0   55.70   \n",
       "1            0.0        18.25            18.25              0.0   63.28   \n",
       "\n",
       "   Hrs_RN_emp  Hrs_RN_ctr  Hrs_LPNadmin  Hrs_LPNadmin_emp  Hrs_LPNadmin_ctr  \\\n",
       "0       55.70         0.0           0.0               0.0               0.0   \n",
       "1       63.28         0.0           0.0               0.0               0.0   \n",
       "\n",
       "   Hrs_LPN  Hrs_LPN_emp  Hrs_LPN_ctr  Hrs_CNA  Hrs_CNA_emp  Hrs_CNA_ctr  \\\n",
       "0    25.50        25.50          0.0   160.08       160.08          0.0   \n",
       "1    15.22        15.22          0.0   135.95       135.95          0.0   \n",
       "\n",
       "   Hrs_NAtrn  Hrs_NAtrn_emp  Hrs_NAtrn_ctr  Hrs_MedAide  Hrs_MedAide_emp  \\\n",
       "0        0.0            0.0            0.0          0.0              0.0   \n",
       "1        0.0            0.0            0.0          0.0              0.0   \n",
       "\n",
       "   Hrs_MedAide_ctr CMS Certification Number (CCN)             Provider Name  \\\n",
       "0              0.0                         015009  BURNS NURSING HOME, INC.   \n",
       "1              0.0                         015009  BURNS NURSING HOME, INC.   \n",
       "\n",
       "       Provider Address     City/Town State  ZIP Code   DateDate Survey Type  \\\n",
       "0  701 MONROE STREET NW  RUSSELLVILLE    AL   35653.0 2023-03-02      Health   \n",
       "1  701 MONROE STREET NW  RUSSELLVILLE    AL   35653.0 2023-03-02      Health   \n",
       "\n",
       "  Deficiency Prefix                                Deficiency Category  \\\n",
       "0                 F                     Infection Control Deficiencies   \n",
       "1                 F  Resident Assessment and Care Planning Deficien...   \n",
       "\n",
       "   Deficiency Tag Number                             Deficiency Description  \\\n",
       "0                  880.0  Provide and implement an infection prevention ...   \n",
       "1                  656.0  Develop and implement a complete care plan tha...   \n",
       "\n",
       "  Scope Severity Code                        Deficiency Corrected  \\\n",
       "0                   F  Deficient, Provider has date of correction   \n",
       "1                   J                         Past Non-Compliance   \n",
       "\n",
       "  Correction Date  Inspection Cycle Standard Deficiency Complaint Deficiency  \\\n",
       "0      2023-04-06               1.0                   Y                    N   \n",
       "1      2023-01-13               1.0                   Y                    Y   \n",
       "\n",
       "  Infection Control Inspection Deficiency Citation under IDR  \\\n",
       "0                                       N                  N   \n",
       "1                                       N                  N   \n",
       "\n",
       "  Citation under IIDR                                    Location  \\\n",
       "0                   N  701 MONROE STREET NW,RUSSELLVILLE,AL,35653   \n",
       "1                   N  701 MONROE STREET NW,RUSSELLVILLE,AL,35653   \n",
       "\n",
       "  Processing Date  \n",
       "0      2024-11-01  \n",
       "1      2024-11-01  "
      ]
     },
     "execution_count": 26,
     "metadata": {},
     "output_type": "execute_result"
    }
   ],
   "source": [
    "df3.head(2)"
   ]
  },
  {
   "cell_type": "code",
   "execution_count": null,
   "id": "12d2d872-aa29-4394-ad4b-c5da4c0c3fd4",
   "metadata": {},
   "outputs": [],
   "source": [
    "df3.head()"
   ]
  },
  {
   "cell_type": "code",
   "execution_count": null,
   "id": "7267eb3b-82df-45c7-b42f-ba96644f9e30",
   "metadata": {},
   "outputs": [],
   "source": [
    "df3['Inspection Cycle'].value_counts()"
   ]
  },
  {
   "cell_type": "code",
   "execution_count": null,
   "id": "daaa6ad7-cca8-4c7d-9432-11a199705f4c",
   "metadata": {},
   "outputs": [],
   "source": []
  }
 ],
 "metadata": {
  "kernelspec": {
   "display_name": "Python 3 (ipykernel)",
   "language": "python",
   "name": "python3"
  },
  "language_info": {
   "codemirror_mode": {
    "name": "ipython",
    "version": 3
   },
   "file_extension": ".py",
   "mimetype": "text/x-python",
   "name": "python",
   "nbconvert_exporter": "python",
   "pygments_lexer": "ipython3",
   "version": "3.12.3"
  }
 },
 "nbformat": 4,
 "nbformat_minor": 5
}
